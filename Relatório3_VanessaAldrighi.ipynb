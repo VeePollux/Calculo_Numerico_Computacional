{
  "nbformat": 4,
  "nbformat_minor": 0,
  "metadata": {
    "colab": {
      "provenance": [],
      "collapsed_sections": [
        "Vt-tPzbnulIG"
      ],
      "authorship_tag": "ABX9TyOMkR6j8UpqEqUAOv1k6o1W",
      "include_colab_link": true
    },
    "kernelspec": {
      "name": "python3",
      "display_name": "Python 3"
    },
    "language_info": {
      "name": "python"
    }
  },
  "cells": [
    {
      "cell_type": "markdown",
      "metadata": {
        "id": "view-in-github",
        "colab_type": "text"
      },
      "source": [
        "<a href=\"https://colab.research.google.com/github/VeePollux/Calculo_Numerico_Computacional/blob/main/Relat%C3%B3rio3_VanessaAldrighi.ipynb\" target=\"_parent\"><img src=\"https://colab.research.google.com/assets/colab-badge.svg\" alt=\"Open In Colab\"/></a>"
      ]
    },
    {
      "cell_type": "markdown",
      "source": [
        "#Relatório 3"
      ],
      "metadata": {
        "id": "xIgEWo24ow-x"
      }
    },
    {
      "cell_type": "markdown",
      "source": [
        "##Imports"
      ],
      "metadata": {
        "id": "6jW7H7I2o1mP"
      }
    },
    {
      "cell_type": "code",
      "source": [
        "import math\n",
        "import matplotlib.pyplot as plt\n",
        "import numpy as np\n",
        "import sympy as sp\n",
        "from sympy import *\n",
        "from sympy.plotting.plot import PlotGrid\n",
        "import scipy\n",
        "from scipy.interpolate import CubicSpline"
      ],
      "metadata": {
        "id": "a1LJsaTppCEP"
      },
      "execution_count": null,
      "outputs": []
    },
    {
      "cell_type": "markdown",
      "source": [
        "##Métodos"
      ],
      "metadata": {
        "id": "erHSE1kwo26_"
      }
    },
    {
      "cell_type": "markdown",
      "source": [
        "###Lagrange\n"
      ],
      "metadata": {
        "id": "Yj51lIZfo59Q"
      }
    },
    {
      "cell_type": "markdown",
      "source": [],
      "metadata": {
        "id": "p5Ywavq7sOZ0"
      }
    },
    {
      "cell_type": "code",
      "source": [
        "def polinomioLagrange (m, x, y, z):\n",
        "  Pz = 0\n",
        "  Polinomio = \"\"\n",
        "  Numerador = \"\"\n",
        "  for i in range(0, m):\n",
        "    Numerador = f\"(({y[i]} * \"\n",
        "    c = 1\n",
        "    d = 1\n",
        "    for j in range(0, m):\n",
        "      if(i != j):\n",
        "        c = c*(z -x[j])\n",
        "        d = d*(x[i]-x[j])\n",
        "        Numerador += f\"(x - {x[j]})*\"\n",
        "    Pz = Pz + y[i] * (c/d)\n",
        "    Numerador = Numerador[:-3]\n",
        "    Polinomio += Numerador + f\")\"\n",
        "    Polinomio += f\"/ {d}) + \"\n",
        "  Polinomio = Polinomio[:-3]\n",
        "  print(Polinomio)\n",
        "  return Pz\n",
        "\n"
      ],
      "metadata": {
        "id": "GsG_hkhSpKuP"
      },
      "execution_count": null,
      "outputs": []
    },
    {
      "cell_type": "code",
      "source": [
        "vetorAbscissas = np.array([3, 9, 20], float)\n",
        "vetorOrdenadas = np.array([1.5, 4.5, 6], float)\n",
        "Pz = polinomioLagrange(3, vetorAbscissas, vetorOrdenadas, 3)\n",
        "print(Pz)"
      ],
      "metadata": {
        "colab": {
          "base_uri": "https://localhost:8080/"
        },
        "id": "2VuA7MRNq4kd",
        "outputId": "0078a479-92fc-4d7a-98fc-e12f13215de7"
      },
      "execution_count": null,
      "outputs": [
        {
          "output_type": "stream",
          "name": "stdout",
          "text": [
            "((1.5 * (x - 9.0)*(x - 20.)/ 102.0) + ((4.5 * (x - 3.0)*(x - 20.)/ -66.0) + ((6.0 * (x - 3.0)*(x - 9.)/ 187.0)\n",
            "1.5\n"
          ]
        }
      ]
    },
    {
      "cell_type": "markdown",
      "source": [
        "###Newton"
      ],
      "metadata": {
        "id": "Vt-tPzbnulIG"
      }
    },
    {
      "cell_type": "code",
      "source": [
        "def formaNewton(m, x, y, z):\n",
        "  Dely = np.zeros(m)\n",
        "  Polinomio = \"\"\n",
        "  for i in range(0, m):\n",
        "    Dely[i] = y[i]\n",
        "  Polinomio +=f\"{Dely[0]}\"\n",
        "  for i in range(1, m):\n",
        "    for k in range(m, i , -1):\n",
        "      Dely[k-1] = (Dely[k-1] - Dely[k-1-1])/(x[k-1]-x[k-i-1])\n",
        "    Polinomio +=f\" + ({Dely[i]})\"\n",
        "    for pol in range(0, i):\n",
        "      Polinomio +=f\"*(x - {x[pol]})\"\n",
        "  Pz = Dely[m-1]\n",
        "  for i in range(m-1, 0, -1):\n",
        "    Pz = Pz * (z-x[i-1]) + Dely[i-1]\n",
        "  print(\"POL\", Polinomio)\n",
        "  return Pz"
      ],
      "metadata": {
        "id": "4ahiWjx-uonx"
      },
      "execution_count": null,
      "outputs": []
    },
    {
      "cell_type": "code",
      "source": [
        "vetorAbscissas = np.array([3, 9, 20], float)\n",
        "vetorOrdenadas = np.array([1.5, 4.5, 6], float)\n",
        "Pz = formaNewton(3, vetorAbscissas, vetorOrdenadas, 20)\n",
        "print(Pz)"
      ],
      "metadata": {
        "colab": {
          "base_uri": "https://localhost:8080/"
        },
        "id": "1hBu4EBdw1ML",
        "outputId": "c7ba46f2-f28a-47da-f49a-16b9098d1114"
      },
      "execution_count": null,
      "outputs": [
        {
          "output_type": "stream",
          "name": "stdout",
          "text": [
            "POL 1.5 + (0.5)*(x - 3.0) + (-0.021390374331550804)*(x - 3.0)*(x - 9.0)\n",
            "5.999999999999999\n"
          ]
        }
      ]
    },
    {
      "cell_type": "markdown",
      "source": [
        "###Spline Cúbica"
      ],
      "metadata": {
        "id": "tu0bvaHTtqkp"
      }
    },
    {
      "cell_type": "code",
      "source": [
        "def SplineCubica (n, x, y):\n",
        "  e = np.zeros(n)\n",
        "  d = np.zeros(n)\n",
        "  s2 = np.zeros(n)\n",
        "  m = n -2\n",
        "  #Construção do sistema linear tridiagonal simétrico\n",
        "  Ha = x[1] - x[0]\n",
        "  Deltaa=(y[1]-y[0])/Ha\n",
        "  for i in range(0, m):\n",
        "    ip1 = i +1\n",
        "    ip2 = i+ 2\n",
        "    Hb = x[ip2]-x[ip1]\n",
        "    Deltab = (y[ip2]-y[ip1])/Hb\n",
        "    e[i] = Hb\n",
        "    d[i]=2*(Ha+Hb)\n",
        "    s2[ip1]= 6*(Deltab - Deltaa)\n",
        "    Ha = Hb\n",
        "    Deltaa = Deltab\n",
        "  #Eliminação de Gauss\n",
        "  for i in range(1, m):\n",
        "    ip1 = i + 1\n",
        "    im1 = i-1\n",
        "    t=e[im1]/d[im1]\n",
        "    d[i]=d[i]-t*e[im1]\n",
        "    s2[ip1]=s2[ip1]-t*s2[i]\n",
        "  #Solução por substituições retroativas\n",
        "  s2[m]=s2[m]/d[m-1]\n",
        "  for i in range(m, 0, -1):\n",
        "    ip1 = i+1\n",
        "    im1 = i -1\n",
        "    s2[i]=(s2[i]-e[im1]*s2[ip1])/d[im1]\n",
        "  s2[0] = 0\n",
        "  s2[n-1] = 0\n",
        "  return s2"
      ],
      "metadata": {
        "id": "4qR6-NdNtuAH"
      },
      "execution_count": null,
      "outputs": []
    },
    {
      "cell_type": "code",
      "source": [
        "def interpolSplineCubic(x, y, s2, xi):\n",
        "    n = len(x)\n",
        "    for i in range(n - 1):\n",
        "        if x[i] <= xi < x[i + 1]:\n",
        "            hi = x[i + 1] - x[i]\n",
        "            ai = (x[i + 1] - xi) ** 3 / (6 * hi) * s2[i]\n",
        "            bi = (xi - x[i]) ** 3 / (6 * hi) * s2[i + 1]\n",
        "            ci = (y[i] / hi - (hi / 6) * s2[i])\n",
        "            di = (y[i + 1] / hi - (hi / 6) * s2[i + 1])\n",
        "            interpolated_y = ai + bi + ci * (x[i + 1] - xi) + di * (xi - x[i])\n",
        "            return interpolated_y"
      ],
      "metadata": {
        "id": "llebJ7i0Yv2I"
      },
      "execution_count": null,
      "outputs": []
    },
    {
      "cell_type": "code",
      "source": [
        "x =  np.array([0.9,1.3,1.9,2.1], dtype = 'double')\n",
        "y =  np.array([1.3,1.5,1.85,2.1], dtype = 'double')\n",
        "s2 = SplineCubica (4, x, y)\n",
        "print(\"S2: \", s2)\n",
        "xi = np.linspace(0, 4, 100)\n",
        "yi = [cubic_spline_interpolation(x, y, s2, x_val) for x_val in xi]\n",
        "\n",
        "plt.figure(figsize=(8, 6))\n",
        "plt.plot(x, y, 'o', label='Pontos de Dados')\n",
        "plt.plot(xi, yi, label='Interpolação com Segundas Derivadas')\n",
        "plt.xlabel('x')\n",
        "plt.ylabel('y')\n",
        "plt.title('Interpolação com Segundas Derivadas de Splines Cúbicos')\n",
        "plt.legend()\n",
        "plt.grid(True)\n",
        "plt.show()"
      ],
      "metadata": {
        "colab": {
          "base_uri": "https://localhost:8080/",
          "height": 583
        },
        "id": "3HknfDKWW5m_",
        "outputId": "0926ee4a-5d97-4066-cdd5-cd3857181a59"
      },
      "execution_count": null,
      "outputs": [
        {
          "output_type": "stream",
          "name": "stdout",
          "text": [
            "S2:  [ 0.         -0.32280302  1.90934338  0.        ]\n"
          ]
        },
        {
          "output_type": "display_data",
          "data": {
            "text/plain": [
              "<Figure size 800x600 with 1 Axes>"
            ],
            "image/png": "[encoded data removed]"
          },
          "metadata": {}
        }
      ]
    },
    {
      "cell_type": "code",
      "source": [
        "#x =  np.array([0, 1, 4, 6], float)\n",
        "#y =  np.array([1.0, 2.3, 2.2, 3.7], float)\n",
        "x =  np.array([2, 5, 9, 12], float)\n",
        "y =  np.array([4.5, -1.9, 0.5, -0.5], float)\n",
        "u = 4\n",
        "s2 = SplineCubica (u, x, y)\n",
        "print(\"S2: \", s2)\n",
        "\n",
        "spline = CubicSpline(x, y, bc_type='natural')\n",
        "x_smooth = np.linspace(x[0], x[-1], 100)\n",
        "y_smooth = spline(x_smooth)\n",
        "\n",
        "# Plotando os pontos originais e a spline cúbica natural\n",
        "plt.figure(figsize=(8, 6))\n",
        "plt.plot(x, y, 'o', label='Pontos Originais')\n",
        "plt.plot(x_smooth, y_smooth, '-', label='Spline Cúbica Natural')\n",
        "plt.title('Spline Cúbica Natural')\n",
        "plt.xlabel('x')\n",
        "plt.ylabel('y')\n",
        "plt.legend()\n",
        "plt.grid(True)\n",
        "plt.show()"
      ],
      "metadata": {
        "colab": {
          "base_uri": "https://localhost:8080/",
          "height": 583
        },
        "id": "aF6IEZ4S1RT9",
        "outputId": "17bf333d-34f0-4bfa-c6a5-591efe79df6e"
      },
      "execution_count": null,
      "outputs": [
        {
          "output_type": "stream",
          "name": "stdout",
          "text": [
            "S2:  [ 0.          1.18920635 -0.06222222  0.        ]\n"
          ]
        },
        {
          "output_type": "display_data",
          "data": {
            "text/plain": [
              "<Figure size 800x600 with 1 Axes>"
            ],
            "image/png": "[encoded data removed]"
          },
          "metadata": {}
        }
      ]
    },
    {
      "cell_type": "code",
      "source": [
        "vetorAbscissas = np.array([3, 4.5, 7, 9], float)\n",
        "vetorOrdenadas= np.array([2.5, 1, 2.5, 0.5], float)\n",
        "vetor, info = SplineCubica(4, vetorAbscissas, vetorOrdenadas)\n",
        "print(\"Vetor: \", vetor, \"\\nInfo: \", info)"
      ],
      "metadata": {
        "colab": {
          "base_uri": "https://localhost:8080/"
        },
        "id": "_I6KPUF78Pbs",
        "outputId": "c0dba285-5cef-478f-eb1f-13720078b726"
      },
      "execution_count": null,
      "outputs": [
        {
          "output_type": "stream",
          "name": "stdout",
          "text": [
            "Vetor:  [ 0.   0.  -9.6  0. ] \n",
            "Info:  0\n"
          ]
        },
        {
          "output_type": "stream",
          "name": "stderr",
          "text": [
            "<ipython-input-13-df6174b3b1cb>:31: RuntimeWarning: invalid value encountered in double_scalars\n",
            "  s2[m+1]=s2[m+1]/d[m]\n"
          ]
        }
      ]
    },
    {
      "cell_type": "code",
      "source": [
        "A = np.array([[2, 1, -1],\n",
        "              [-3, -1, 2],\n",
        "              [-2, 1, 2]])\n",
        "\n",
        "# Definindo o vetor de termos independentes\n",
        "b = np.array([8, -11, -3])\n",
        "\n",
        "# Resolvendo o sistema de equações lineares\n",
        "solucao = np.linalg.solve(A, b)\n",
        "\n",
        "print(\"A solução do sistema é:\", solucao)\n",
        "\n"
      ],
      "metadata": {
        "colab": {
          "base_uri": "https://localhost:8080/"
        },
        "id": "4EEkp46m51wA",
        "outputId": "e9f32260-1d0d-46ab-a411-7a8c00ab3bb0"
      },
      "execution_count": null,
      "outputs": [
        {
          "output_type": "stream",
          "name": "stdout",
          "text": [
            "A solução do sistema é: [ 2.  3. -1.]\n"
          ]
        }
      ]
    },
    {
      "cell_type": "code",
      "source": [
        "def graf(f1, curva, titulo):\n",
        "  valores = [f1(valor) for valor in curva]\n",
        "  plt.plot(curva, valores, linestyle = '-')\n",
        "  plt.title(titulo)\n",
        "  plt.grid()\n",
        "  plt.show()"
      ],
      "metadata": {
        "id": "qafVkw60lbYR"
      },
      "execution_count": null,
      "outputs": []
    },
    {
      "cell_type": "markdown",
      "source": [
        "###Aproximação Linear"
      ],
      "metadata": {
        "id": "HuNGwZtduIuH"
      }
    },
    {
      "cell_type": "markdown",
      "source": [
        " scipy Interpol"
      ],
      "metadata": {
        "id": "Y0O3HU3y5DQ8"
      }
    },
    {
      "cell_type": "code",
      "source": [
        "def AproximaçãoLinear(x, y, n, a1, a0, syx):\n",
        "  sumx = 0\n",
        "  sumy = 0\n",
        "  sumxy = 0\n",
        "  sumx2 = 0\n",
        "  st = 0\n",
        "  sr = 0\n",
        "  for i in range(0, n):\n",
        "    sumx = sumx + x[i]\n",
        "    sumy = sumy + y[i]\n",
        "    sumxy = sumxy + x[i]*y[i]\n",
        "    sumx2 = sumx2 + x[i]*x[i]\n",
        "  xm = sumx/n\n",
        "  ym = sumy/n\n",
        "  a1 = (n*sumxy - sumx*sumy)/(n*sumx2 - sumx*sumx)\n",
        "  a0 = ym - a1*xm\n",
        "  for i in range(0, n):\n",
        "    st =st + (y[i] - ym)*(y[i] - ym)\n",
        "    sr = sr + (y[i] - a1*x[i] - a0)*(y[i] - a1*x[i] - a0)\n",
        "  syx = (sr/(n-2))**0.5\n"
      ],
      "metadata": {
        "id": "bDXkbJhcuN9P"
      },
      "execution_count": null,
      "outputs": []
    },
    {
      "cell_type": "code",
      "source": [
        "def minimosQuadrados(n, X, Y, grau):\n",
        "    H = np.array([[x**i for x in X] for i in range(grau+1)])\n",
        "    A = np.dot(H, H.T)\n",
        "    b = np.dot(H, Y)\n",
        "    x = np.linalg.solve(A, b)\n",
        "    equacao = 'f(x) = ' , ' + '.join([f'{x[i]:.10f}x^{i}' for i in range(len(x))])\n",
        "    return equacao;"
      ],
      "metadata": {
        "id": "xrXFIqLyJOfD"
      },
      "execution_count": null,
      "outputs": []
    }
  ]
}