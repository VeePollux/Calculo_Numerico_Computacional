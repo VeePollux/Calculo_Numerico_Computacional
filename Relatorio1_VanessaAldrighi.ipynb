{
  "cells": [
    {
      "cell_type": "markdown",
      "metadata": {
        "id": "view-in-github",
        "colab_type": "text"
      },
      "source": [
        "<a href=\"https://colab.research.google.com/github/VeePollux/Calculo_Numerico_Computacional/blob/main/Relatorio1_VanessaAldrighi.ipynb\" target=\"_parent\"><img src=\"https://colab.research.google.com/assets/colab-badge.svg\" alt=\"Open In Colab\"/></a>"
      ]
    },
    {
      "cell_type": "markdown",
      "metadata": {
        "id": "TsEm8Me-OgWq"
      },
      "source": [
        "#Relatório 1"
      ]
    },
    {
      "cell_type": "markdown",
      "metadata": {
        "id": "QyHHYhU8Ok0n"
      },
      "source": [
        "#Imports\n"
      ]
    },
    {
      "cell_type": "code",
      "execution_count": null,
      "metadata": {
        "id": "NBEGirIkPIaN"
      },
      "outputs": [],
      "source": [
        "import random\n",
        "import math\n",
        "import matplotlib.pyplot as plt\n",
        "import numpy as np\n",
        "from sympy import *\n",
        "from sympy.plotting.plot import PlotGrid\n",
        "from prettytable import PrettyTable"
      ]
    },
    {
      "cell_type": "markdown",
      "metadata": {
        "id": "-LlSHzpwO0D7"
      },
      "source": [
        "#Métodos"
      ]
    },
    {
      "cell_type": "markdown",
      "metadata": {
        "id": "gqfI5DKIO3ef"
      },
      "source": [
        "##Bissecção"
      ]
    },
    {
      "cell_type": "code",
      "execution_count": null,
      "metadata": {
        "id": "i2cf3kBjPRr4"
      },
      "outputs": [],
      "source": [
        "def bisseccao(f, a, b, precisao, n, table):\n",
        "    if(f(a)*f(b) > 0):\n",
        "      print(\"Erro: Método não é aplicável.\")\n",
        "      return None\n",
        "\n",
        "    table.field_names = [\"i\", \"a\", \"b\", \"x\", \"f(x)\"]\n",
        "    for i in range(n):\n",
        "      if((b - a)>= precisao):\n",
        "        x = (a+b)/2\n",
        "        if(f(a)*f(x)>0):\n",
        "          a = x\n",
        "        else:\n",
        "          b = x\n",
        "      else:\n",
        "        x = random.uniform(a, b)\n",
        "        table.add_row([i+2, a, b, x, f(x)])\n",
        "        print(table)\n",
        "        return\n",
        "      table.add_row([i+1, a, b, x, f(x)])\n",
        "    print(table)"
      ]
    },
    {
      "cell_type": "markdown",
      "metadata": {
        "id": "tceutrEWO8kT"
      },
      "source": [
        "##Falsa Posição"
      ]
    },
    {
      "cell_type": "code",
      "execution_count": null,
      "metadata": {
        "id": "X-C6htpIPXxf"
      },
      "outputs": [],
      "source": [
        "def falsaPosicao(f, a, b, precisao, n, table):\n",
        "  if(f(a)*f(b) > 0):\n",
        "      print(\"Erro: Método não é aplicável.\")\n",
        "      return None\n",
        "\n",
        "  table.field_names = [\"i\", \"a\", \"b\", \"x\", \"f(x)\"]\n",
        "  for i in range(n):\n",
        "    x = (a*f(b) - b*f(a))/(f(b) - f(a))\n",
        "    table.add_row([i+1, a, b, x, f(x)])\n",
        "    if(a == x or n == x):\n",
        "      print(table)\n",
        "      return\n",
        "    if((b - a)> precisao):\n",
        "      if(f(a)*f(x)>0):\n",
        "        a = x\n",
        "      else:\n",
        "        b = x\n",
        "    else:\n",
        "        x = random.uniform(a, b)\n",
        "        table.add_row([i+2, a, b, x, f(x)])\n",
        "        print(table)\n",
        "        return\n",
        "  print(table)"
      ]
    },
    {
      "cell_type": "markdown",
      "metadata": {
        "id": "qUh8pYJqPA6o"
      },
      "source": [
        "##Newton-Raphson"
      ]
    },
    {
      "cell_type": "code",
      "execution_count": null,
      "metadata": {
        "id": "YqTvl4H0QC4A"
      },
      "outputs": [],
      "source": [
        "def newtonRaphson(f, df, x0, precisao, n, table):\n",
        "  table.field_names = [\"i\", \"x\", \"f(x)\"]\n",
        "  if(abs(f(x0))< precisao):\n",
        "    table.add_row([1, x0, f(x0)])\n",
        "  else:\n",
        "    x = x0 - (f(x0)/df(x0))\n",
        "    table.add_row([1, x0, f(x0)])\n",
        "    for i in range(n-1):\n",
        "      table.add_row([i+2, x, f(x)])\n",
        "      if(abs(f(x))< precisao or abs(x - x0) < precisao):\n",
        "          print(table)\n",
        "          return\n",
        "      else:\n",
        "        x0 = x\n",
        "        x = x0 - (f(x0)/df(x0))\n",
        "  print(table)"
      ]
    },
    {
      "cell_type": "markdown",
      "metadata": {
        "id": "JFFYKvhBPES0"
      },
      "source": [
        "##Secante"
      ]
    },
    {
      "cell_type": "code",
      "execution_count": null,
      "metadata": {
        "id": "DAWCUqwtQTI9"
      },
      "outputs": [],
      "source": [
        "def secante(f, x0, x1, precisao, n, table):\n",
        "  table.field_names = [\"i\", \"x\", \"f(x)\"]\n",
        "  table.add_row([\"x0\", x0, f(x0)])\n",
        "  if(abs(f(x0))< precisao):\n",
        "    table.add_row([1, x0, f(x0)])\n",
        "  else:\n",
        "    table.add_row([\"x1\",x1, f(x1)])\n",
        "    if(abs(f(x1))< precisao or abs(x1 - x0)< precisao):\n",
        "       table.add_row([1, x1, f(x1)])\n",
        "    else:\n",
        "      for i in range(n):\n",
        "        x2 = x1 - ((f(x1)/(f(x1)-f(x0)))*(x1-x0));\n",
        "        table.add_row([i+1, x2, f(x2)])\n",
        "        if(abs(f(x2))< precisao or abs(x2 - x1)< precisao):\n",
        "           print(table)\n",
        "           return\n",
        "        else:\n",
        "          x0 = x1;\n",
        "          x1 = x2;\n",
        "  print(table)\n"
      ]
    },
    {
      "cell_type": "markdown",
      "metadata": {
        "id": "Fg6-NDj9RhPD"
      },
      "source": [
        "#Questões"
      ]
    },
    {
      "cell_type": "code",
      "execution_count": null,
      "metadata": {
        "id": "oZRPIo8kSOtV"
      },
      "outputs": [],
      "source": [
        "def graf(f, curva):\n",
        "  valores = [f(valor) for valor in curva]\n",
        "  plt.plot(curva, valores, 'r')\n",
        "  plt.title('Gráfico da função')\n",
        "  plt.xlabel('x')\n",
        "  plt.ylabel('F(x)')\n",
        "  plt.axhline(y = 0, color = \"black\", linestyle = \"-\")\n",
        "  plt.grid()\n",
        "  plt.show()"
      ]
    },
    {
      "cell_type": "markdown",
      "metadata": {
        "id": "FYWRN1czhCcD"
      },
      "source": [
        "##Questão 1"
      ]
    },
    {
      "cell_type": "markdown",
      "metadata": {
        "id": "Ifr5nEFSBVTe"
      },
      "source": [
        "A população de uma determinada bactéria segue a forma da seguinte função:\n",
        "\n",
        "![image.png](data:image/png;base64,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)\n",
        "\n",
        "e^t = (at + 3)/(t + 5)\n",
        "\n",
        "t = 3\n",
        "\n",
        "e^3 = (a3 + 3)/(3-+5)\n",
        "\n",
        "f(a) = -(3a + 3)/8 + e^3\n",
        "\n",
        "Use o Método da Bissecção para encontrar o valor de a.\n",
        "\n",
        "Observação: Comece traçando um gráfico para encontrar um intervalo apropriado paraa raiz. Utilize tol = 0,0001\n",
        "\n",
        "**Resposta**\n",
        "\n",
        "\"a\" é aproximadamente 52.56142268171605."
      ]
    },
    {
      "cell_type": "code",
      "execution_count": null,
      "metadata": {
        "id": "4CnxYVDmhBlP"
      },
      "outputs": [],
      "source": [
        "f1Q1 = lambda x: math.exp(x)\n",
        "f2Q1 = lambda x: -(3*x + 3)/8 + math.exp(3)"
      ]
    },
    {
      "cell_type": "code",
      "execution_count": null,
      "metadata": {
        "colab": {
          "base_uri": "https://localhost:8080/",
          "height": 1000
        },
        "id": "98nbsLIShsdz",
        "outputId": "0e8930b0-8fef-44ca-8b38-3b49afc1e6b5"
      },
      "outputs": [
        {
          "output_type": "stream",
          "name": "stdout",
          "text": [
            "Primeira função:\n",
            "\n"
          ]
        },
        {
          "output_type": "display_data",
          "data": {
            "text/plain": [
              "<Figure size 640x480 with 1 Axes>"
            ],
            "image/png": "[encoded data removed]"
          },
          "metadata": {}
        },
        {
          "output_type": "stream",
          "name": "stdout",
          "text": [
            "\n",
            "Segunda função:\n",
            "\n"
          ]
        },
        {
          "output_type": "display_data",
          "data": {
            "text/plain": [
              "<Figure size 640x480 with 1 Axes>"
            ],
            "image/png": "[encoded data removed]"
          },
          "metadata": {}
        }
      ],
      "source": [
        "print(\"Primeira função:\\n\")\n",
        "curva1Q1 = np.linspace(3, 0, 200)\n",
        "graf(f1Q1, curva1Q1)\n",
        "print(\"\\nSegunda função:\\n\")\n",
        "curva2Q1 = np.linspace(60, 3, 200)\n",
        "graf(f2Q1, curva2Q1)"
      ]
    },
    {
      "cell_type": "code",
      "execution_count": null,
      "metadata": {
        "colab": {
          "base_uri": "https://localhost:8080/"
        },
        "id": "YCQ9ahcwhMb0",
        "outputId": "6f8a91ab-8ca8-4d3d-9e3f-ba04982232b6"
      },
      "outputs": [
        {
          "output_type": "stream",
          "name": "stdout",
          "text": [
            "+----+--------------------+-------------------+--------------------+-------------------------+\n",
            "| i  |         a          |         b         |         x          |           f(x)          |\n",
            "+----+--------------------+-------------------+--------------------+-------------------------+\n",
            "| 1  |        31.5        |         60        |        31.5        |    7.898036923187668    |\n",
            "| 2  |       45.75        |         60        |       45.75        |    2.554286923187668    |\n",
            "| 3  |       45.75        |       52.875      |       52.875       |   -0.11758807681233208  |\n",
            "| 4  |      49.3125       |       52.875      |      49.3125       |    1.218349423187668    |\n",
            "| 5  |      51.09375      |       52.875      |      51.09375      |    0.5503806731876679   |\n",
            "| 6  |     51.984375      |       52.875      |     51.984375      |   0.21639629818766792   |\n",
            "| 7  |     52.4296875     |       52.875      |     52.4296875     |   0.049404110687667924  |\n",
            "| 8  |     52.4296875     |    52.65234375    |    52.65234375     |  -0.034091983062332076  |\n",
            "| 9  |    52.541015625    |    52.65234375    |    52.541015625    |   0.007656063812667924  |\n",
            "| 10 |    52.541015625    |   52.5966796875   |   52.5966796875    |  -0.013217959624832076  |\n",
            "| 11 |    52.541015625    |   52.56884765625  |   52.56884765625   |  -0.0027809479060820763 |\n",
            "| 12 |  52.554931640625   |   52.56884765625  |  52.554931640625   |  0.0024375579532929237  |\n",
            "| 13 |  52.554931640625   |  52.5618896484375 |  52.5618896484375  | -0.00017169497639457632 |\n",
            "| 14 | 52.55841064453125  |  52.5618896484375 | 52.55841064453125  |  0.0011329314884491737  |\n",
            "| 15 | 52.560150146484375 |  52.5618896484375 | 52.560150146484375 |  0.0004806182560272987  |\n",
            "| 16 | 52.56101989746094  |  52.5618896484375 | 52.56101989746094  |  0.00015446163981636118 |\n",
            "| 17 | 52.56101989746094  | 52.56145477294922 | 52.56145477294922  |  -8.616668289107565e-06 |\n",
            "| 18 | 52.56123733520508  | 52.56145477294922 | 52.56123733520508  |  7.292248576362681e-05  |\n",
            "| 19 | 52.56134605407715  | 52.56145477294922 | 52.56134605407715  |  3.215290873725962e-05  |\n",
            "| 20 | 52.561400413513184 | 52.56145477294922 | 52.561400413513184 |  1.1768120224076029e-05 |\n",
            "| 22 | 52.561400413513184 | 52.56145477294922 | 52.56142268171605  |  3.417544149897367e-06  |\n",
            "+----+--------------------+-------------------+--------------------+-------------------------+\n"
          ]
        }
      ],
      "source": [
        "table1Q1 = PrettyTable()\n",
        "bisseccao(f2Q1, 3, 60, 0.0001, 100, table1Q1)\n"
      ]
    },
    {
      "cell_type": "markdown",
      "metadata": {
        "id": "dsgIYSYW6xjl"
      },
      "source": [
        "##Questão 2"
      ]
    },
    {
      "cell_type": "markdown",
      "metadata": {
        "id": "qHnlxWFY66Xt"
      },
      "source": [
        "Aplique o Método de Newton-Raphson para calcular a raiz de f(x) = x3 – 100\n",
        "cos(x) com tol = 0,001.\n",
        "\n",
        "a) considere x0 = 1\n",
        "\n",
        "\n",
        "b) considere x0 = -1\n",
        "\n",
        "O que acontece quando os valores de estimativa inicial são alterados?\n",
        "Justifique sua resposta.\n",
        "\n",
        "  **Resposta**  \n",
        "\n",
        "Quando os valores de estimativa são alterados a resposta da convergência usando o método de Newton-Raphson também é alterada. Isso se dá devido a mudança da distância entre o valor inicial atribuido para X e a distância da convergência mais próxima."
      ]
    },
    {
      "cell_type": "code",
      "execution_count": null,
      "metadata": {
        "id": "ia-5iLnO7bii"
      },
      "outputs": [],
      "source": [
        "x = Symbol('x')\n",
        "fQ2 = x**3 - 100*cos(x)\n",
        "dfQ2 = diff(fQ2, x)\n",
        "\n",
        "fQ2 = lambdify(x, fQ2)\n",
        "dfQ2 = lambdify(x, dfQ2)"
      ]
    },
    {
      "cell_type": "code",
      "execution_count": null,
      "metadata": {
        "colab": {
          "base_uri": "https://localhost:8080/",
          "height": 472
        },
        "id": "N9pLTCa_7g8L",
        "outputId": "f8e4c693-ada4-4916-d93c-9dc2d1d04602"
      },
      "outputs": [
        {
          "output_type": "display_data",
          "data": {
            "text/plain": [
              "<Figure size 640x480 with 1 Axes>"
            ],
            "image/png": "[encoded data removed]"
          },
          "metadata": {}
        }
      ],
      "source": [
        "curva1Q2 = np.linspace(5, -5, 200)\n",
        "graf(fQ2, curva1Q2)"
      ]
    },
    {
      "cell_type": "code",
      "execution_count": null,
      "metadata": {
        "colab": {
          "base_uri": "https://localhost:8080/"
        },
        "id": "bm0q42HT7TKM",
        "outputId": "afc36fa2-76de-49c0-8572-21fed7eb0453"
      },
      "outputs": [
        {
          "output_type": "stream",
          "name": "stdout",
          "text": [
            "A)\n",
            "+---+--------------------+-----------------------+\n",
            "| i |         x          |          f(x)         |\n",
            "+---+--------------------+-----------------------+\n",
            "| 1 |         1          |   -53.03023058681398  |\n",
            "| 2 | 1.6085140126438489 |   7.932610525842988   |\n",
            "| 3 | 1.5348530464990653 |  0.02221255868168459  |\n",
            "| 4 | 1.5346454577941748 | 2.759932953289024e-07 |\n",
            "+---+--------------------+-----------------------+\n",
            "B)\n",
            "+---+---------------------+-------------------------+\n",
            "| i |          x          |           f(x)          |\n",
            "+---+---------------------+-------------------------+\n",
            "| 1 |          -1         |    -55.03023058681398   |\n",
            "| 2 | -1.6781540143402855 |    5.989138970510213    |\n",
            "| 3 |  -1.612321697070812 |   -0.04001753895561233  |\n",
            "| 4 | -1.6127561270429593 | -1.3060651333773876e-06 |\n",
            "+---+---------------------+-------------------------+\n"
          ]
        }
      ],
      "source": [
        "print(\"A)\")\n",
        "table1Q2 = PrettyTable()\n",
        "newtonRaphson(fQ2, dfQ2, 1, 0.001, 5, table1Q2)\n",
        "print(\"B)\")\n",
        "table2Q2 = PrettyTable()\n",
        "newtonRaphson(fQ2, dfQ2, -1, 0.001, 5, table2Q2)"
      ]
    },
    {
      "cell_type": "markdown",
      "metadata": {
        "id": "vP8I700d94Am"
      },
      "source": [
        "##Questão 3"
      ]
    },
    {
      "cell_type": "markdown",
      "metadata": {
        "id": "3mJ-VMod98C-"
      },
      "source": [
        "![image.png](data:image/png;base64,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)\n",
        "\n",
        "\n",
        "Se R = 3m, até qual profundidade o tanque deve ser enchido para conter 30 m3?\n",
        "\n",
        "f = -h³ - 9*h² + 90/pi\n",
        "\n",
        "Use três iterações do Método da Falsa Posição para obter a resposta. Determine\n",
        "o erro relativo aproximado após cada iteração.\n",
        "\n",
        "**Resposta**\n",
        "\n",
        "Erro Relativo = (valor exato de X - valor aproximado de X)/(valor aproximado de X)\n",
        "\n",
        "Valor exato de X = 1.64081\n",
        "\n",
        "Erro Relativo Iteração 1: (1.64081 - 0.55092)/0.55092 = 1.97830\n",
        "\n",
        "Erro Relativo Iteração 2: (1.64081 - 0.98392)/0.98392 = 0.66762\n",
        "\n",
        "Erro Relativo Iteração 3: (1.64081 - 1.27259)/1.27259 = 0.28934\n"
      ]
    },
    {
      "cell_type": "code",
      "execution_count": null,
      "metadata": {
        "id": "6YAKZpaC-oN6"
      },
      "outputs": [],
      "source": [
        "f1Q3 = lambda x: -x**3 - 9*x**2 + 90/math.pi"
      ]
    },
    {
      "cell_type": "code",
      "execution_count": null,
      "metadata": {
        "colab": {
          "base_uri": "https://localhost:8080/",
          "height": 472
        },
        "id": "EwltM1Wr-96T",
        "outputId": "30383d29-c7d2-423d-a0a4-0d15ced6dc0a"
      },
      "outputs": [
        {
          "output_type": "display_data",
          "data": {
            "text/plain": [
              "<Figure size 640x480 with 1 Axes>"
            ],
            "image/png": "[encoded data removed]"
          },
          "metadata": {}
        }
      ],
      "source": [
        "curva1Q3 = np.linspace(4, -9, 200)\n",
        "graf(f1Q3, curva1Q3)"
      ]
    },
    {
      "cell_type": "code",
      "execution_count": null,
      "metadata": {
        "colab": {
          "base_uri": "https://localhost:8080/"
        },
        "id": "fJIaZAT6_ZLm",
        "outputId": "830492e1-6139-4dad-9338-19970be97781"
      },
      "outputs": [
        {
          "output_type": "stream",
          "name": "stdout",
          "text": [
            "+---+--------------------+---+--------------------+--------------------+\n",
            "| i |         a          | b |         x          |        f(x)        |\n",
            "+---+--------------------+---+--------------------+--------------------+\n",
            "| 1 |         0          | 4 | 0.5509209568565608 | 25.74905248161245  |\n",
            "| 2 | 0.5509209568565608 | 4 | 0.9839293129046273 | 18.982279132267266 |\n",
            "| 3 | 0.9839293129046273 | 4 | 1.272592796051945  | 12.011503542711434 |\n",
            "+---+--------------------+---+--------------------+--------------------+\n"
          ]
        }
      ],
      "source": [
        "table1Q3 = PrettyTable()\n",
        "falsaPosicao(f1Q3, 0, 4, 0.0001, 3, table1Q3)"
      ]
    },
    {
      "cell_type": "markdown",
      "metadata": {
        "id": "a4L9N0eUDHas"
      },
      "source": [
        "##Questão 4"
      ]
    },
    {
      "cell_type": "markdown",
      "metadata": {
        "id": "lAM61uE-DM5B"
      },
      "source": [
        "![Screenshot 2023-11-14 at 15-51-15 Relatorio1_20232-1.pdf.png](data:image/png;base64,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)\n",
        "\n",
        " em que A é o ângulo do campo, F é a cobertura da fração do campo com\n",
        "espelhos, D é o diâmetro do coletor e h é o comprimento do coletor.\n",
        "\n",
        "Considerando h = 300, F = 0,8 e D = 14, calcule o ângulo positivo A inferior a\n",
        "pi/25 para o qual a concentração do fator C é 1200.\n",
        "\n",
        "\n",
        "\n",
        "Utilize o método iterativo mais adequado e considere no critério de paragem ε1 = ε2 = 10−3 ou no máximo 3 iterações."
      ]
    },
    {
      "cell_type": "markdown",
      "source": [
        "**Resposta**\n",
        "\n",
        "Considerei o método mais adequado o método da secante. Método da bissecção e falsa posição não são aplicáveis. Ambos os métodos secante e Newton-Raphson chegam em uma convergência equivalente, sendo Newton-Raphson o mais aproximado, no entanto como ele exige o cálculo de derivada e utiliza apenas um ponto inicial, considerei o método da secante como mais seguro de ser utilizado."
      ],
      "metadata": {
        "id": "K9afxCEtbb1S"
      }
    },
    {
      "cell_type": "code",
      "execution_count": null,
      "metadata": {
        "id": "VDyhY-kWEfZr"
      },
      "outputs": [],
      "source": [
        "x = Symbol('x')\n",
        "f1Q4 = (1200*(98*math.pi*(1+sin(x) - 0.5*cos(x))))/(0.8*math.pi*((300/cos(x))**2))\n",
        "df1Q4 = diff(f1Q4, x)\n",
        "\n",
        "f1Q4 = lambdify(x, f1Q4)\n",
        "df1Q4 = lambdify(x, df1Q4)"
      ]
    },
    {
      "cell_type": "code",
      "execution_count": null,
      "metadata": {
        "colab": {
          "base_uri": "https://localhost:8080/",
          "height": 472
        },
        "id": "paw0-AKAF4F1",
        "outputId": "021192e7-e9c1-4e3a-c571-0db1eae16798"
      },
      "outputs": [
        {
          "output_type": "display_data",
          "data": {
            "text/plain": [
              "<Figure size 640x480 with 1 Axes>"
            ],
            "image/png": "[encoded data removed]"
          },
          "metadata": {}
        }
      ],
      "source": [
        "curva1Q4 = np.linspace(5, (math.pi/25)/2, 1000)\n",
        "graf(f1Q4, curva1Q4)"
      ]
    },
    {
      "cell_type": "code",
      "source": [
        "print(\"Método Secante\")\n",
        "table1Q4 = PrettyTable()\n",
        "secante(f1Q4, (math.pi/25)/2, math.pi/25, 0.001, 10, table1Q4)\n",
        "\n",
        "#print(\"Método Newton-Raphson\")\n",
        "#table2Q4 = PrettyTable()\n",
        "#newtonRaphson(f1Q4, df1Q4, math.pi/25,  0.001, 10, table2Q4)\n"
      ],
      "metadata": {
        "colab": {
          "base_uri": "https://localhost:8080/"
        },
        "id": "VFsmXn6JO9I8",
        "outputId": "c70b6e21-a36e-4d23-cb64-355de6549e44"
      },
      "execution_count": null,
      "outputs": [
        {
          "output_type": "stream",
          "name": "stdout",
          "text": [
            "Método Secante\n",
            "+----+---------------------+-----------------------+\n",
            "| i  |          x          |          f(x)         |\n",
            "+----+---------------------+-----------------------+\n",
            "| x0 | 0.06283185307179587 |   0.9172054868177083  |\n",
            "| x1 | 0.12566370614359174 |   1.0116718905494158  |\n",
            "| 1  | -0.5472233422974331 |  0.06276790171507403  |\n",
            "| 2  | -0.5917333334228534 |  0.030617171717464493 |\n",
            "| 3  | -0.6341202416371036 |  0.00501843343378482  |\n",
            "| 4  | -0.6424298651419768 | 0.0005614034050603912 |\n",
            "+----+---------------------+-----------------------+\n"
          ]
        }
      ]
    },
    {
      "cell_type": "markdown",
      "metadata": {
        "id": "g1fIBsaoHXGa"
      },
      "source": [
        "##Questão 5"
      ]
    },
    {
      "cell_type": "markdown",
      "metadata": {
        "id": "GGmJZte1HaD5"
      },
      "source": [
        "Compare os Métodos da Bissecção, Métodos da Falsa Posição, Métodos de\n",
        "Newton-Raphson e Métodos da Secante quando aplicados nas funções abaixo.\n",
        "Para isso, utilize em todos os método o mesmo critério de parada, o número\n",
        "máximo de iterações 500 e tolerância de 10-10.\n",
        "\n",
        "Para o Método de Newton, considere x0 como o ponto médio do intervalo dado.\n",
        "\n",
        "a) f(x) = 2x4 + 4x3 + 3x2 – 10x –15 [0,3]\n",
        "\n",
        "b) f(x) = sen(x) x+ 4 [1,5]\n",
        "\n",
        "c) f(x) = (x – 3)5 ln(x) [2,5]"
      ]
    },
    {
      "cell_type": "markdown",
      "source": [
        "**Resposta**\n",
        "\n",
        "Através dos resultados podemos ver que os métodos com maior melhores resultados são o Newton-Raphson e Secante, com destaque principalmente no primeiro método citado. Podemos ver também que funções onde há um grande intervalo no qual a linha de resultados da função está proxima da convergência tendem a ter maiores quantidades de iterações em todos os métodos, os mais afetados por isso são Bissecção e Falsa Posição, com destaque no segundo método citado.\n"
      ],
      "metadata": {
        "id": "J6PvYcyBpKeO"
      }
    },
    {
      "cell_type": "code",
      "execution_count": null,
      "metadata": {
        "id": "SLL1_YWcHso5"
      },
      "outputs": [],
      "source": [
        "x = Symbol('x')\n",
        "f1Q5 = 2*x**4 + 4*x**3 + 3*x**2 - 10*x - 15\n",
        "df1Q5 = diff(f1Q5, x)\n",
        "f1Q5 = lambdify(x, f1Q5)\n",
        "df1Q5 = lambdify(x, df1Q5)\n",
        "\n",
        "f2Q5 = sin(x)*x + 4\n",
        "df2Q5 = diff(f2Q5, x)\n",
        "f2Q5 = lambdify(x, f2Q5)\n",
        "df2Q5 = lambdify(x, df2Q5)\n",
        "\n",
        "f3Q5 = ((x - 3)**5)*(log(x))\n",
        "df3Q5 = diff(f3Q5, x)\n",
        "f3Q5 = lambdify(x, f3Q5)\n",
        "df3Q5 = lambdify(x, df3Q5)"
      ]
    },
    {
      "cell_type": "code",
      "execution_count": null,
      "metadata": {
        "colab": {
          "base_uri": "https://localhost:8080/",
          "height": 1000
        },
        "id": "MmD5nTTSMIrG",
        "outputId": "ea88bf32-4bec-4b6a-e1d4-c7617d976c74"
      },
      "outputs": [
        {
          "output_type": "stream",
          "name": "stdout",
          "text": [
            "A)\n",
            "\n"
          ]
        },
        {
          "output_type": "display_data",
          "data": {
            "text/plain": [
              "<Figure size 640x480 with 1 Axes>"
            ],
            "image/png": "[encoded data removed]"
          },
          "metadata": {}
        },
        {
          "output_type": "stream",
          "name": "stdout",
          "text": [
            "\n",
            "B)\n",
            "\n"
          ]
        },
        {
          "output_type": "display_data",
          "data": {
            "text/plain": [
              "<Figure size 640x480 with 1 Axes>"
            ],
            "image/png": "[encoded data removed]"
          },
          "metadata": {}
        },
        {
          "output_type": "stream",
          "name": "stdout",
          "text": [
            "\n",
            "C)\n",
            "\n"
          ]
        },
        {
          "output_type": "display_data",
          "data": {
            "text/plain": [
              "<Figure size 640x480 with 1 Axes>"
            ],
            "image/png": "[encoded data removed]"
          },
          "metadata": {}
        }
      ],
      "source": [
        "print(\"A)\\n\")\n",
        "curva1Q5 = np.linspace(3, 0, 1000)\n",
        "graf(f1Q5, curva1Q5)\n",
        "print(\"\\nB)\\n\")\n",
        "curva2Q5 = np.linspace(5, 1, 1000)\n",
        "graf(f2Q5, curva2Q5)\n",
        "print(\"\\nC)\\n\")\n",
        "curva3Q5 = np.linspace(5, 2, 1000)\n",
        "graf(f3Q5, curva3Q5)"
      ]
    },
    {
      "cell_type": "code",
      "source": [
        "print(\"------Função A------\")\n",
        "print(\"Método Bissecção:\")\n",
        "table1Q5 = PrettyTable()\n",
        "bisseccao(f1Q5, 0, 3, 0.000000001,500, table1Q5)\n",
        "\n",
        "print(\"Método Falsa Posição:\")\n",
        "table2Q5 = PrettyTable()\n",
        "falsaPosicao(f1Q5, 0, 3, 0.000000001, 500, table2Q5)\n",
        "\n",
        "print(\"Método Newton-Raphson:\")\n",
        "table3Q5 = PrettyTable()\n",
        "newtonRaphson(f1Q5, df1Q5, 1.5, 0.000000001, 500, table3Q5)\n",
        "\n",
        "print(\"Método Secante:\")\n",
        "table4Q5 = PrettyTable()\n",
        "secante(f1Q5, 0, 3, 0.000000001, 500, table4Q5)\n",
        "\n",
        "print(\"------Função B------\")\n",
        "print(\"Método Bissecção:\")\n",
        "table5Q5 = PrettyTable()\n",
        "bisseccao(f2Q5, 1, 5, 0.000000001, 500, table5Q5)\n",
        "\n",
        "print(\"Método Falsa Posição:\")\n",
        "table6Q5 = PrettyTable()\n",
        "falsaPosicao(f2Q5, 1, 5, 0.000000001, 500, table6Q5)\n",
        "\n",
        "print(\"Método Newton-Raphson:\")\n",
        "table7Q5 = PrettyTable()\n",
        "newtonRaphson(f2Q5, df2Q5, 2, 0.000000001, 500, table7Q5)\n",
        "\n",
        "print(\"Método Secante:\")\n",
        "table8Q5 = PrettyTable()\n",
        "secante(f1Q5, 1, 5, 0.000000001, 500, table8Q5)\n",
        "\n",
        "print(\"------Função C------\")\n",
        "print(\"Método Bissecção:\")\n",
        "table9Q5 = PrettyTable()\n",
        "bisseccao(f3Q5, 2, 5, 0.000000001, 500, table9Q5)\n",
        "\n",
        "print(\"Método Falsa Posição:\")\n",
        "table10Q5 = PrettyTable()\n",
        "falsaPosicao(f3Q5, 2, 5, 0.000000001, 500, table10Q5)\n",
        "\n",
        "print(\"Método Newton-Raphson:\")\n",
        "table11Q5 = PrettyTable()\n",
        "newtonRaphson(f3Q5, df3Q5, 1.5, 0.000000001, 500, table11Q5)\n",
        "\n",
        "print(\"Método Secante:\")\n",
        "table12Q5 = PrettyTable()\n",
        "secante(f3Q5, 2, 5, 0.000000001, 500, table12Q5)"
      ],
      "metadata": {
        "colab": {
          "base_uri": "https://localhost:8080/"
        },
        "id": "3L1U_PIGdDJ8",
        "outputId": "c0cffb24-962d-408c-b093-d8b99568681e"
      },
      "execution_count": null,
      "outputs": [
        {
          "output_type": "stream",
          "name": "stdout",
          "text": [
            "------Função A------\n",
            "Método Bissecção:\n",
            "+----+--------------------+--------------------+--------------------+-------------------------+\n",
            "| i  |         a          |         b          |         x          |           f(x)          |\n",
            "+----+--------------------+--------------------+--------------------+-------------------------+\n",
            "| 1  |         0          |        1.5         |        1.5         |          0.375          |\n",
            "| 2  |        0.75        |        1.5         |        0.75        |       -18.4921875       |\n",
            "| 3  |       1.125        |        1.5         |       1.125        |     -13.55419921875     |\n",
            "| 4  |       1.3125       |        1.5         |       1.3125       |    -7.977996826171875   |\n",
            "| 5  |      1.40625       |        1.5         |      1.40625       |    -4.184904098510742   |\n",
            "| 6  |      1.453125      |        1.5         |      1.453125      |   -2.0055445432662964   |\n",
            "| 7  |     1.4765625      |        1.5         |     1.4765625      |   -0.8410257026553154   |\n",
            "| 8  |     1.48828125     |        1.5         |     1.48828125     |   -0.2395276646129787   |\n",
            "| 9  |     1.48828125     |    1.494140625     |    1.494140625     |    0.0660978579253424   |\n",
            "| 10 |    1.4912109375    |    1.494140625     |    1.4912109375    |   -0.08712327776993334  |\n",
            "| 11 |   1.49267578125    |    1.494140625     |   1.49267578125    |   -0.01061495376768562  |\n",
            "| 12 |   1.49267578125    |   1.493408203125   |   1.493408203125   |   0.02771587232553685   |\n",
            "| 13 |   1.49267578125    |  1.4930419921875   |  1.4930419921875   |   0.008544066690134855  |\n",
            "| 14 |  1.49285888671875  |  1.4930419921875   |  1.49285888671875  |  -0.0010370413923297406 |\n",
            "| 15 |  1.49285888671875  | 1.492950439453125  | 1.492950439453125  |  0.0037531131488108826  |\n",
            "| 16 |  1.49285888671875  | 1.4929046630859375 | 1.4929046630859375 |  0.0013579360078068703  |\n",
            "| 17 |  1.49285888671875  | 1.4928817749023438 | 1.4928817749023438 |  0.0001604223407056793  |\n",
            "| 18 | 1.4928703308105469 | 1.4928817749023438 | 1.4928703308105469 | -0.00043831576750008594 |\n",
            "| 19 | 1.4928760528564453 | 1.4928817749023438 | 1.4928760528564453 |  -0.0001389482738289871 |\n",
            "| 20 | 1.4928760528564453 | 1.4928789138793945 | 1.4928789138793945 |  1.0736643329067874e-05 |\n",
            "| 21 |  1.49287748336792  | 1.4928789138793945 |  1.49287748336792  |  -6.410591277727917e-05 |\n",
            "| 22 | 1.4928781986236572 | 1.4928789138793945 | 1.4928781986236572 |  -2.668465910460327e-05 |\n",
            "| 23 | 1.4928785562515259 | 1.4928789138793945 | 1.4928785562515259 |  -7.974013982448014e-06 |\n",
            "| 24 | 1.4928785562515259 | 1.4928787350654602 | 1.4928787350654602 |  1.3813131509721188e-06 |\n",
            "| 25 | 1.492878645658493  | 1.4928787350654602 | 1.492878645658493  |  -3.296350797654668e-06 |\n",
            "| 26 | 1.4928786903619766 | 1.4928787350654602 | 1.4928786903619766 |  -9.575189210409008e-07 |\n",
            "| 27 | 1.4928786903619766 | 1.4928787127137184 | 1.4928787127137184 |  2.1189708832025644e-07 |\n",
            "| 28 | 1.4928787015378475 | 1.4928787127137184 | 1.4928787015378475 |  -3.728109234657495e-07 |\n",
            "| 29 | 1.492878707125783  | 1.4928787127137184 | 1.492878707125783  |  -8.045691757274653e-08 |\n",
            "| 30 | 1.492878707125783  | 1.4928787099197507 | 1.4928787099197507 |   6.57200871501118e-08  |\n",
            "| 31 | 1.4928787085227668 | 1.4928787099197507 | 1.4928787085227668 |  -7.36841343496053e-09  |\n",
            "| 32 | 1.4928787085227668 | 1.4928787092212588 | 1.4928787092212588 |  2.9175833304861953e-08 |\n",
            "| 34 | 1.4928787085227668 | 1.4928787092212588 | 1.4928787091289921 |  2.4348556948439182e-08 |\n",
            "+----+--------------------+--------------------+--------------------+-------------------------+\n",
            "Método Falsa Posição:\n",
            "+-----+---------------------+-------------------+---------------------+-------------------------+\n",
            "|  i  |          a          |         b         |          x          |           f(x)          |\n",
            "+-----+---------------------+-------------------+---------------------+-------------------------+\n",
            "|  1  |          0          |         3         | 0.16853932584269662 |   -16.579413221787853   |\n",
            "|  2  | 0.16853932584269662 |         3         | 0.34332545697230227 |   -17.889975330207044   |\n",
            "|  3  | 0.34332545697230227 |         3         |  0.5194262624097953 |   -18.678691297731813   |\n",
            "|  4  |  0.5194262624097953 |         3         |  0.6906029104997017 |   -18.702819415925536   |\n",
            "|  5  |  0.6906029104997017 |         3         |  0.850158828010205  |   -17.830607844644128   |\n",
            "|  6  |  0.850158828010205  |         3         |  0.992221936314399  |   -16.122821204945907   |\n",
            "|  7  |  0.992221936314399  |         3         |  1.1129540940417408 |   -13.830632321109489   |\n",
            "|  8  |  1.1129540940417408 |         3         |  1.2111332913392043 |   -11.301365931464144   |\n",
            "|  9  |  1.2111332913392043 |         3         |  1.2879146525207934 |    -8.855061882319587   |\n",
            "|  10 |  1.2879146525207934 |         3         |  1.3460336002243285 |    -6.70462194666273    |\n",
            "|  11 |  1.3460336002243285 |         3         |  1.3888980041902732 |    -4.942548152236759   |\n",
            "|  12 |  1.3888980041902732 |         3         |   1.41988917030783  |   -3.5709659312226947   |\n",
            "|  13 |   1.41988917030783  |         3         |  1.4419672726455786 |    -2.542184667877663   |\n",
            "|  14 |  1.4419672726455786 |         3         |  1.4575277854018431 |   -1.7906600356335787   |\n",
            "|  15 |  1.4575277854018431 |         3         |  1.4684109414264517 |    -1.251824766764825   |\n",
            "|  16 |  1.4684109414264517 |         3         |  1.475981592172183  |   -0.8705062147142719   |\n",
            "|  17 |  1.475981592172183  |         3         |  1.4812280225100356 |   -0.6031058160033247   |\n",
            "|  18 |  1.4812280225100356 |         3         |  1.484854186209995  |   -0.41677262335508836  |\n",
            "|  19 |  1.484854186209995  |         3         |  1.4873558872222372 |   -0.28749633723615275  |\n",
            "|  20 |  1.4873558872222372 |         3         |  1.4890796335365775 |   -0.19807601956944154  |\n",
            "|  21 |  1.4890796335365775 |         3         |  1.4902663082995216 |   -0.13635264943409098  |\n",
            "|  22 |  1.4902663082995216 |         3         |  1.4910827561724291 |   -0.09380842800973888  |\n",
            "|  23 |  1.4910827561724291 |         3         |  1.4916442501477192 |   -0.0645127759352846   |\n",
            "|  24 |  1.4916442501477192 |         3         |  1.4920302950353923 |  -0.044353676874530734  |\n",
            "|  25 |  1.4920302950353923 |         3         |  1.4922956610317135 |  -0.030488146886993306  |\n",
            "|  26 |  1.4922956610317135 |         3         |  1.4924780481376805 |  -0.020954423272760536  |\n",
            "|  27 |  1.4924780481376805 |         3         |  1.4926033918938955 |  -0.014400627358959639  |\n",
            "|  28 |  1.4926033918938955 |         3         |  1.4926895276733647 |  -0.009896014426532318  |\n",
            "|  29 |  1.4926895276733647 |         3         |  1.492748717278278  |  -0.006800186355301108  |\n",
            "|  30 |  1.492748717278278  |         3         |  1.492789389155383  |  -0.004672708148163451  |\n",
            "|  31 |  1.492789389155383  |         3         |  1.492817336078853  |  -0.003210759703467403  |\n",
            "|  32 |  1.492817336078853  |         3         |  1.4928365390141984 |  -0.0022061801706918516 |\n",
            "|  33 |  1.4928365390141984 |         3         |  1.492849733637341  |  -0.0015158982260405907 |\n",
            "|  34 |  1.492849733637341  |         3         |  1.4928587997987368 |  -0.001041588777432878  |\n",
            "|  35 |  1.4928587997987368 |         3         |  1.4928650292228305 |  -0.0007156828347625321 |\n",
            "|  36 |  1.4928650292228305 |         3         |  1.4928693094909453 |  -0.0004917491052669476 |\n",
            "|  37 |  1.4928693094909453 |         3         |  1.4928722504779388 | -0.00033788245475641077 |\n",
            "|  38 |  1.4928722504779388 |         3         |  1.492874271237228  | -0.00023215982852420325 |\n",
            "|  39 |  1.492874271237228  |         3         |  1.4928756597044042 |  -0.0001595174049775494 |\n",
            "|  40 |  1.4928756597044042 |         3         |  1.4928766137219103 | -0.00010960459982101156 |\n",
            "|  41 |  1.4928766137219103 |         3         |  1.492877269228195  |  -7.530941631195276e-05 |\n",
            "|  42 |  1.492877269228195  |         3         |  1.4928777196270018 |  -5.174514904204841e-05 |\n",
            "|  43 |  1.4928777196270018 |         3         |  1.4928780290962518 |  -3.555411776900996e-05 |\n",
            "|  44 |  1.4928780290962518 |         3         |  1.4928782417326982 | -2.4429248359325584e-05 |\n",
            "|  45 |  1.4928782417326982 |         3         |  1.4928783878352703 | -1.6785344449488093e-05 |\n",
            "|  46 |  1.4928783878352703 |         3         |  1.492878488222388  | -1.1533214774317457e-05 |\n",
            "|  47 |  1.492878488222388  |         3         |  1.4928785571984011 |  -7.92447463382473e-06  |\n",
            "|  48 |  1.4928785571984011 |         3         |  1.4928786045918347 |  -5.444908236285073e-06 |\n",
            "|  49 |  1.4928786045918347 |         3         |  1.4928786371558724 | -3.7411975402079634e-06 |\n",
            "|  50 |  1.4928786371558724 |         3         |  1.492878659530629  |  -2.570577546379127e-06 |\n",
            "|  51 |  1.492878659530629  |         3         |  1.4928786749043281 | -1.7662443081434276e-06 |\n",
            "|  52 |  1.4928786749043281 |         3         |  1.4928786854675995 |  -1.213586784842846e-06 |\n",
            "|  53 |  1.4928786854675995 |         3         |  1.4928786927256255 |  -8.338556831688493e-07 |\n",
            "|  54 |  1.4928786927256255 |         3         |  1.492878697712616  |  -5.729423886435825e-07 |\n",
            "|  55 |  1.492878697712616  |         3         |  1.4928787011391782 | -3.9366881487978844e-07 |\n",
            "|  56 |  1.4928787011391782 |         3         |  1.4928787034935698 | -2.7048990602906997e-07 |\n",
            "|  57 |  1.4928787034935698 |         3         |  1.4928787051112724 | -1.8585366845513818e-07 |\n",
            "|  58 |  1.4928787051112724 |         3         |  1.4928787062227964 |  -1.277000798438621e-07 |\n",
            "|  59 |  1.4928787062227964 |         3         |  1.4928787069865246 |  -8.774274995460019e-08 |\n",
            "|  60 |  1.4928787069865246 |         3         |  1.4928787075112822 |  -6.028806609492676e-08 |\n",
            "|  61 |  1.4928787075112822 |         3         |  1.4928787078718435 |  -4.142393450479176e-08 |\n",
            "|  62 |  1.4928787078718435 |         3         |  1.4928787081195853 | -2.8462377343885237e-08 |\n",
            "|  63 |  1.4928787081195853 |         3         |  1.4928787082898083 |  -1.955652351171011e-08 |\n",
            "|  64 |  1.4928787082898083 |         3         |  1.4928787084067687 |  -1.343729572056418e-08 |\n",
            "|  65 |  1.4928787084067687 |         3         |  1.4928787084871324 |  -9.232763886757311e-09 |\n",
            "|  66 |  1.4928787084871324 |         3         |  1.4928787085423503 |  -6.343833902633378e-09 |\n",
            "|  67 |  1.4928787085423503 |         3         |  1.4928787085802906 |  -4.358842176088729e-09 |\n",
            "|  68 |  1.4928787085802906 |         3         |  1.4928787086063593 |  -2.994958947510895e-09 |\n",
            "|  69 |  1.4928787086063593 |         3         |  1.4928787086242712 |  -2.057829462387417e-09 |\n",
            "|  70 |  1.4928787086242712 |         3         |  1.4928787086365782 | -1.4139391879552932e-09 |\n",
            "|  71 |  1.4928787086365782 |         3         |  1.4928787086450344 |  -9.715233062479456e-10 |\n",
            "|  72 |  1.4928787086450344 |         3         |  1.4928787086508448 |  -6.675318076077019e-10 |\n",
            "|  73 |  1.4928787086508448 |         3         |  1.492878708654837  | -4.5866421771734167e-10 |\n",
            "|  74 |  1.492878708654837  |         3         |   1.49287870865758  | -3.1514524323483784e-10 |\n",
            "|  75 |   1.49287870865758  |         3         |  1.4928787086594648 | -2.1654322779340873e-10 |\n",
            "|  76 |  1.4928787086594648 |         3         |  1.4928787086607598 | -1.4879297793868318e-10 |\n",
            "|  77 |  1.4928787086607598 |         3         |  1.4928787086616497 | -1.0222755975064501e-10 |\n",
            "|  78 |  1.4928787086616497 |         3         |  1.492878708662261  |  -7.02478075709223e-11  |\n",
            "|  79 |  1.492878708662261  |         3         |  1.492878708662681  |  -4.827782618122001e-11 |\n",
            "|  80 |  1.492878708662681  |         3         |  1.4928787086629696 |  -3.317346397579968e-11 |\n",
            "|  81 |  1.4928787086629696 |         3         |  1.492878708663168  | -2.2795987320023414e-11 |\n",
            "|  82 |  1.492878708663168  |         3         |  1.4928787086633044 | -1.5660361896152608e-11 |\n",
            "|  83 |  1.4928787086633044 |         3         |  1.4928787086633981 | -1.0757617019407917e-11 |\n",
            "|  84 |  1.4928787086633981 |         3         |  1.4928787086634625 |  -7.386091738226241e-12 |\n",
            "|  85 |  1.4928787086634625 |         3         |  1.4928787086635067 |  -5.078604203845316e-12 |\n",
            "|  86 |  1.4928787086635067 |         3         |  1.492878708663537  |  -3.497646616779093e-12 |\n",
            "|  87 |  1.492878708663537  |         3         |  1.4928787086635578 | -2.4016344468691386e-12 |\n",
            "|  88 |  1.4928787086635578 |         3         |  1.4928787086635724 | -1.6360246490876307e-12 |\n",
            "|  89 |  1.4928787086635724 |         3         |  1.4928787086635822 | -1.1297629498585593e-12 |\n",
            "|  90 |  1.4928787086635822 |         3         |  1.492878708663589  |  -7.65609797781508e-13  |\n",
            "|  91 |  1.492878708663589  |         3         |  1.4928787086635937 |  -5.240252676230739e-13 |\n",
            "|  92 |  1.4928787086635937 |         3         |  1.492878708663597  |  -3.481659405224491e-13 |\n",
            "|  93 |  1.492878708663597  |         3         |  1.492878708663599  |  -2.433608869978343e-13 |\n",
            "|  94 |  1.492878708663599  |         3         |  1.4928787086636006 | -1.5987211554602254e-13 |\n",
            "|  95 |  1.4928787086636006 |         3         |  1.4928787086636015 | -1.1546319456101628e-13 |\n",
            "|  96 |  1.4928787086636015 |         3         |  1.4928787086636022 |  -7.815970093361102e-14 |\n",
            "|  97 |  1.4928787086636022 |         3         |  1.4928787086636026 | -5.5067062021407764e-14 |\n",
            "|  98 |  1.4928787086636026 |         3         |  1.492878708663603  |  -3.552713678800501e-14 |\n",
            "|  99 |  1.492878708663603  |         3         |  1.4928787086636035 | -1.0658141036401503e-14 |\n",
            "| 100 |  1.4928787086636035 |         3         |  1.492878708663604  |  1.4210854715202004e-14 |\n",
            "| 101 |  1.4928787086636035 | 1.492878708663604 |  1.4928787086636037 |  1.7763568394002505e-15 |\n",
            "| 102 |  1.4928787086636035 | 1.492878708663604 |  1.492878708663604  |  1.4210854715202004e-14 |\n",
            "+-----+---------------------+-------------------+---------------------+-------------------------+\n",
            "Método Newton-Raphson:\n",
            "+---+--------------------+------------------------+\n",
            "| i |         x          |          f(x)          |\n",
            "+---+--------------------+------------------------+\n",
            "| 1 |        1.5         |         0.375          |\n",
            "| 2 | 1.4929245283018868 |  0.002397327970346197  |\n",
            "| 3 | 1.4928787105759462 | 1.0005144446267877e-07 |\n",
            "| 4 | 1.4928787086636037 | 1.7763568394002505e-15 |\n",
            "+---+--------------------+------------------------+\n",
            "Método Secante:\n",
            "+----+---------------------+-------------------------+\n",
            "| i  |          x          |           f(x)          |\n",
            "+----+---------------------+-------------------------+\n",
            "| x0 |          0          |           -15           |\n",
            "| x1 |          3          |           252           |\n",
            "| 1  | 0.16853932584269682 |   -16.579413221787856   |\n",
            "| 2  |  0.3433254569723025 |   -17.889975330207044   |\n",
            "| 3  | -2.0426122669122218 |    18.66922798678675    |\n",
            "| 4  |  -0.824215494333481 |    -6.036530947123174   |\n",
            "| 5  | -1.1219149029297333 |   -2.4847413985744886   |\n",
            "| 6  | -1.3301778179361996 |    0.4569360705995713   |\n",
            "| 7  | -1.2978279634630692 |   -0.03855289683442109  |\n",
            "| 8  | -1.3003450338401756 |  -0.0005904545944623862 |\n",
            "| 9  | -1.3003841834754746 |  7.676532352007825e-07  |\n",
            "| 10 | -1.3003841326429082 | -1.5274892462002754e-11 |\n",
            "+----+---------------------+-------------------------+\n",
            "------Função B------\n",
            "Método Bissecção:\n",
            "+----+--------------------+-------------------+--------------------+-------------------------+\n",
            "| i  |         a          |         b         |         x          |           f(x)          |\n",
            "+----+--------------------+-------------------+--------------------+-------------------------+\n",
            "| 1  |        3.0         |         5         |        3.0         |    4.423360024179601    |\n",
            "| 2  |        4.0         |         5         |        4.0         |    0.9727900187682872   |\n",
            "| 3  |        4.0         |        4.5        |        4.5         |   -0.39888552949293654  |\n",
            "| 4  |        4.25        |        4.5        |        4.25        |   0.19629522752852013   |\n",
            "| 5  |        4.25        |       4.375       |       4.375        |   -0.1283470913167104   |\n",
            "| 6  |       4.3125       |       4.375       |       4.3125       |   0.02773804520753087   |\n",
            "| 7  |       4.3125       |      4.34375      |      4.34375       |  -0.051931000689179996  |\n",
            "| 8  |       4.3125       |      4.328125     |      4.328125      |  -0.012494755309456096  |\n",
            "| 9  |     4.3203125      |      4.328125     |     4.3203125      |   0.00752312663722865   |\n",
            "| 10 |     4.3203125      |     4.32421875    |     4.32421875     |  -0.0025105756626597753 |\n",
            "| 11 |    4.322265625     |     4.32421875    |    4.322265625     |   0.002500101601744742  |\n",
            "| 12 |    4.322265625     |    4.3232421875   |    4.3232421875    |  -6.782559017537437e-06 |\n",
            "| 13 |   4.32275390625    |    4.3232421875   |   4.32275390625    |  0.0012462733962825823  |\n",
            "| 14 |   4.322998046875   |    4.3232421875   |   4.322998046875   |   0.000619648855224586  |\n",
            "| 15 |  4.3231201171875   |    4.3232421875   |  4.3231201171875   |  0.00030640900323497533 |\n",
            "| 16 |  4.32318115234375  |    4.3232421875   |  4.32318115234375  |  0.00014980718539003846 |\n",
            "| 17 | 4.323211669921875  |    4.3232421875   | 4.323211669921875  |  7.151080394374176e-05  |\n",
            "| 18 | 4.3232269287109375 |    4.3232421875   | 4.3232269287109375 |  3.2363745144703415e-05 |\n",
            "| 19 | 4.323234558105469  |    4.3232421875   | 4.323234558105469  |  1.2790498733039612e-05 |\n",
            "| 20 | 4.323238372802734  |    4.3232421875   | 4.323238372802734  |  3.003946275281777e-06  |\n",
            "| 21 | 4.323238372802734  | 4.323240280151367 | 4.323240280151367  | -1.8893122666341355e-06 |\n",
            "| 22 | 4.323239326477051  | 4.323240280151367 | 4.323239326477051  |  5.573155301696886e-07  |\n",
            "| 23 | 4.323239326477051  | 4.323239803314209 | 4.323239803314209  |  -6.659987370483123e-07 |\n",
            "| 24 | 4.323239326477051  |  4.32323956489563 |  4.32323956489563  |  -5.434169469964445e-08 |\n",
            "| 25 |  4.32323944568634  |  4.32323956489563 |  4.32323944568634  |  2.5148689486442777e-07 |\n",
            "| 26 | 4.323239505290985  |  4.32323956489563 | 4.323239505290985  |  9.857259364309812e-08  |\n",
            "| 27 | 4.3232395350933075 |  4.32323956489563 | 4.3232395350933075 |  2.2115447695369994e-08 |\n",
            "| 28 | 4.3232395350933075 | 4.323239549994469 | 4.323239549994469  | -1.6113124168271042e-08 |\n",
            "| 29 | 4.323239542543888  | 4.323239549994469 | 4.323239542543888  |  3.0011619855940808e-09 |\n",
            "| 30 | 4.323239542543888  | 4.323239546269178 | 4.323239546269178  |  -6.555981535427691e-09 |\n",
            "| 31 | 4.323239542543888  | 4.323239544406533 | 4.323239544406533  | -1.7774102190060148e-09 |\n",
            "| 32 | 4.323239543475211  | 4.323239544406533 | 4.323239543475211  |  6.118763273832428e-10  |\n",
            "| 34 | 4.323239543475211  | 4.323239544406533 | 4.323239544024154  |  -7.964242598745841e-10 |\n",
            "+----+--------------------+-------------------+--------------------+-------------------------+\n",
            "Método Falsa Posição:\n",
            "+----+-------------------+--------------------+--------------------+-------------------------+\n",
            "| i  |         a         |         b          |         x          |           f(x)          |\n",
            "+----+-------------------+--------------------+--------------------+-------------------------+\n",
            "| 1  |         1         |         5          | 4.4360480114060845 |   -0.2677452211081093   |\n",
            "| 2  |         1         | 4.4360480114060845 | 4.255984103856676  |   0.17964671802206444   |\n",
            "| 3  | 4.255984103856676 | 4.4360480114060845 | 4.328287351180199  |  -0.012908641033827273  |\n",
            "| 4  | 4.255984103856676 | 4.328287351180199  | 4.323440242951918  |  -0.0005148238009606843 |\n",
            "| 5  | 4.255984103856676 | 4.323440242951918  | 4.3232474824683225 | -2.0366582520914278e-05 |\n",
            "| 6  | 4.255984103856676 | 4.3232474824683225 | 4.323239857670747  |  -8.05449080765186e-07  |\n",
            "| 7  | 4.255984103856676 | 4.323239857670747  | 4.323239556129796  |  -3.185315833320601e-08 |\n",
            "| 8  | 4.255984103856676 | 4.323239556129796  | 4.323239544204734  | -1.2596981235901694e-09 |\n",
            "| 9  | 4.255984103856676 | 4.323239544204734  | 4.323239543733132  | -4.9816151204140624e-11 |\n",
            "| 10 | 4.255984103856676 | 4.323239543733132  | 4.323239543714482  | -1.9699797348948778e-12 |\n",
            "| 11 | 4.255984103856676 | 4.323239543714482  | 4.323239543713745  |  -7.815970093361102e-14 |\n",
            "| 12 | 4.255984103856676 | 4.323239543713745  | 4.323239543713716  |  -3.552713678800501e-15 |\n",
            "| 13 | 4.255984103856676 | 4.323239543713716  | 4.323239543713715  |  -8.881784197001252e-16 |\n",
            "| 14 | 4.255984103856676 | 4.323239543713715  | 4.323239543713714  |  1.3322676295501878e-15 |\n",
            "| 15 | 4.323239543713714 | 4.323239543713715  | 4.323239543713714  |  1.3322676295501878e-15 |\n",
            "+----+-------------------+--------------------+--------------------+-------------------------+\n",
            "Método Newton-Raphson:\n",
            "+---+--------------------+------------------------+\n",
            "| i |         x          |          f(x)          |\n",
            "+---+--------------------+------------------------+\n",
            "| 1 |         2          |   5.818594853651364    |\n",
            "| 2 | -73.56248327773321 |   -66.99567820885632   |\n",
            "| 3 | -70.2504291896391  |   67.69599944728847    |\n",
            "| 4 | -68.0335624799501  |   -56.04999258705957   |\n",
            "| 5 | -69.83610850256022 |   50.105018017365154   |\n",
            "| 6 | -68.89276108832922 |  -11.187509587477452   |\n",
            "| 7 | -69.05979517057914 |  0.18685553440920755   |\n",
            "| 8 | -69.05708315856427 | 2.1595314511291264e-05 |\n",
            "| 9 | -69.05708284505809 | 4.0589753780295723e-13 |\n",
            "+---+--------------------+------------------------+\n",
            "Método Secante:\n",
            "+----+--------------------+-------------------------+\n",
            "| i  |         x          |           f(x)          |\n",
            "+----+--------------------+-------------------------+\n",
            "| x0 |         1          |           -16           |\n",
            "| x1 |         5          |           1760          |\n",
            "| 1  | 1.0360360360360361 |    -15.38779640662385   |\n",
            "| 2  | 1.0703928512423408 |   -14.735690439763706   |\n",
            "| 3  | 1.8467565392084895 |    25.220641260601994   |\n",
            "| 4  | 1.3567118021493823 |   -6.2799897972629815   |\n",
            "| 5  | 1.4544074941271226 |   -1.9431340462603615   |\n",
            "| 6  | 1.4981801801822272 |    0.2787084169716536   |\n",
            "| 7  | 1.4926893246247774 |  -0.009906634019353433  |\n",
            "| 8  | 1.4928777967653468 |  -4.770937136022724e-05 |\n",
            "| 9  | 1.4928787088209376 |  8.231523906943039e-09  |\n",
            "| 10 | 1.4928787086636035 | -1.0658141036401503e-14 |\n",
            "+----+--------------------+-------------------------+\n",
            "------Função C------\n",
            "Método Bissecção:\n",
            "+----+--------------------+--------------------+--------------------+-------------------------+\n",
            "| i  |         a          |         b          |         x          |           f(x)          |\n",
            "+----+--------------------+--------------------+--------------------+-------------------------+\n",
            "| 1  |         2          |        3.5         |        3.5         |   0.03914884276548025   |\n",
            "| 2  |        2.75        |        3.5         |        2.75        |  -0.0009878915153110155 |\n",
            "| 3  |        2.75        |       3.125        |       3.125        |   3.47727747555043e-05  |\n",
            "| 4  |       2.9375       |       3.125        |       2.9375       | -1.0276402277663014e-06 |\n",
            "| 5  |       2.9375       |      3.03125       |      3.03125       |  3.305003272603918e-08  |\n",
            "| 6  |      2.984375      |      3.03125       |      2.984375      | -1.0182991108735632e-09 |\n",
            "| 7  |      2.984375      |     3.0078125      |     3.0078125      |  3.2049518496734296e-11 |\n",
            "| 8  |     2.99609375     |     3.0078125      |     2.99609375     |  -9.979970462952167e-13 |\n",
            "| 9  |     2.99609375     |    3.001953125     |    3.001953125     |  3.1242936941540847e-14 |\n",
            "| 10 |    2.9990234375    |    3.001953125     |    2.9990234375    |  -9.754745587654495e-16 |\n",
            "| 11 |    2.9990234375    |   3.00048828125    |   3.00048828125    |  3.049713359184294e-17  |\n",
            "| 12 |   2.999755859375   |   3.00048828125    |   2.999755859375   |  -9.528236751233407e-19 |\n",
            "| 13 |   2.999755859375   |  3.0001220703125   |  3.0001220703125   |  2.977904863737622e-20  |\n",
            "| 14 |  2.99993896484375  |  3.0001220703125   |  2.99993896484375  |  -9.305435716556081e-22 |\n",
            "| 15 |  2.99993896484375  | 3.000030517578125  | 3.000030517578125  |  2.9080294411913435e-23 |\n",
            "| 16 | 2.9999847412109375 | 3.000030517578125  | 2.9999847412109375 |  -9.087465786299098e-25 |\n",
            "| 17 | 2.9999847412109375 | 3.0000076293945312 | 3.0000076293945312 |  2.839852779766176e-26  |\n",
            "| 18 | 2.9999961853027344 | 3.0000076293945312 | 2.9999961853027344 |  -8.87450912190978e-28  |\n",
            "| 19 | 2.9999961853027344 | 3.000001907348633  | 3.000001907348633  |  2.773288915423198e-29  |\n",
            "| 20 | 2.9999990463256836 | 3.000001907348633  | 2.9999990463256836 |  -8.666520337534846e-31 |\n",
            "| 21 | 2.9999990463256836 | 3.000000476837158  | 3.000000476837158  |  2.708288780974083e-32  |\n",
            "| 22 | 2.999999761581421  | 3.000000476837158  | 2.999999761581421  |  -8.46340060383416e-34  |\n",
            "| 23 | 2.999999761581421  | 3.0000001192092896 | 3.0000001192092896 |  2.6448129756841064e-35 |\n",
            "| 24 | 2.9999999403953552 | 3.0000001192092896 | 2.9999999403953552 |  -8.265040100597327e-37 |\n",
            "| 25 | 2.9999999403953552 | 3.0000000298023224 | 3.0000000298023224 |  2.5828251015015885e-38 |\n",
            "| 26 | 2.999999985098839  | 3.0000000298023224 | 2.999999985098839  |  -8.071328332716022e-40 |\n",
            "| 27 | 2.999999985098839  | 3.0000000074505806 | 3.0000000074505806 |  2.522290121079451e-41  |\n",
            "| 28 | 2.9999999962747097 | 3.0000000074505806 | 2.9999999962747097 |  -7.882156601645637e-43 |\n",
            "| 29 | 2.9999999962747097 | 3.000000001862645  | 3.000000001862645  |  2.4631739421904564e-44 |\n",
            "| 30 | 2.9999999990686774 | 3.000000001862645  | 2.9999999990686774 |  -7.697418562819872e-46 |\n",
            "| 31 | 2.9999999990686774 | 3.0000000004656613 | 3.0000000004656613 |  2.405443301900789e-47  |\n",
            "| 32 | 2.9999999997671694 | 3.0000000004656613 | 2.9999999997671694 |  -7.517010316846873e-49 |\n",
            "| 34 | 2.9999999997671694 | 3.0000000004656613 | 3.0000000000808527 |  3.7959104526106185e-51 |\n",
            "+----+--------------------+--------------------+--------------------+-------------------------+\n",
            "Método Falsa Posição:\n",
            "+-----+--------------------+---+--------------------+------------------------+\n",
            "|  i  |         a          | b |         x          |          f(x)          |\n",
            "+-----+--------------------+---+--------------------+------------------------+\n",
            "|  1  |         2          | 5 | 2.0398397385236953 |   -0.581741083652412   |\n",
            "|  2  | 2.0398397385236953 | 5 | 2.072902770596755  |  -0.49925694438465495  |\n",
            "|  3  | 2.072902770596755  | 5 | 2.101005422987174  |  -0.43594598721881117  |\n",
            "|  4  | 2.101005422987174  | 5 | 2.1253383978026372 |  -0.38595078463782595  |\n",
            "|  5  | 2.1253383978026372 | 5 | 2.1467205800233518 |  -0.3455543644068717   |\n",
            "|  6  | 2.1467205800233518 | 5 | 2.1657371550104143 |  -0.31229108667713656  |\n",
            "|  7  | 2.1657371550104143 | 5 | 2.1828196004086835 |  -0.2844644202320957   |\n",
            "|  8  | 2.1828196004086835 | 5 | 2.1982944429914992 |  -0.2608706882783968   |\n",
            "|  9  | 2.1982944429914992 | 5 | 2.2124142678957197 |  -0.24063336001201863  |\n",
            "|  10 | 2.2124142678957197 | 5 | 2.2253781606546097 |  -0.22309968957759851  |\n",
            "|  11 | 2.2253781606546097 | 5 | 2.2373456023187757 |  -0.20777404222528448  |\n",
            "|  12 | 2.2373456023187757 | 5 | 2.248446167649131  |  -0.19427361381136282  |\n",
            "|  13 | 2.248446167649131  | 5 | 2.2587864520210887 |  -0.18229826229047266  |\n",
            "|  14 | 2.2587864520210887 | 5 | 2.2684551203702576 |  -0.17160948545960897  |\n",
            "|  15 | 2.2684551203702576 | 5 | 2.277526654103737  |  -0.1620154756928697   |\n",
            "|  16 | 2.277526654103737  | 5 |  2.28606417673836  |  -0.15336030281758178  |\n",
            "|  17 |  2.28606417673836  | 5 | 2.294121615712781  |  -0.14551595754831265  |\n",
            "|  18 | 2.294121615712781  | 5 | 2.301745377982488  |  -0.13837641296997039  |\n",
            "|  19 | 2.301745377982488  | 5 | 2.308975664172968  |  -0.13185313302691157  |\n",
            "|  20 | 2.308975664172968  | 5 | 2.3158475104038203 |  -0.12587163403205995  |\n",
            "|  21 | 2.3158475104038203 | 5 | 2.322391622388199  |  -0.12036882292623859  |\n",
            "|  22 | 2.322391622388199  | 5 | 2.3286350492905177 |  -0.11529091566425523  |\n",
            "|  23 | 2.3286350492905177 | 5 | 2.334601732683419  |  -0.11059179386556749  |\n",
            "|  24 | 2.334601732683419  | 5 | 2.3403129572146315 |  -0.10623169607989465  |\n",
            "|  25 | 2.3403129572146315 | 5 | 2.3457877232365587 |  -0.10217616704973806  |\n",
            "|  26 | 2.3457877232365587 | 5 | 2.3510430569665037 |  -0.09839520771760879  |\n",
            "|  27 | 2.3510430569665037 | 5 | 2.356094270255282  |  -0.09486258276384393  |\n",
            "|  28 | 2.356094270255282  | 5 | 2.3609551794152455 |  -0.09155525274908981  |\n",
            "|  29 | 2.3609551794152455 | 5 | 2.3656382905630227 |  -0.08845290555303892  |\n",
            "|  30 | 2.3656382905630227 | 5 | 2.370154957402398  |  -0.08553756749540747  |\n",
            "|  31 | 2.370154957402398  | 5 | 2.374515516190248  |  -0.08279327882032006  |\n",
            "|  32 | 2.374515516190248  | 5 | 2.3787294017071905 |  -0.08020582149254007  |\n",
            "|  33 | 2.3787294017071905 | 5 | 2.382805247331655  |  -0.07776248975915383  |\n",
            "|  34 | 2.382805247331655  | 5 | 2.3867509717447377 |  -0.07545189586562932  |\n",
            "|  35 | 2.3867509717447377 | 5 | 2.390573854338763  |  -0.07326380482086632  |\n",
            "|  36 | 2.390573854338763  | 5 |  2.39428060103874  |  -0.07118899328519457  |\n",
            "|  37 |  2.39428060103874  | 5 | 2.3978774019530618 |  -0.0692191285848863   |\n",
            "|  38 | 2.3978774019530618 | 5 | 2.401369982032739  |  -0.06734666459393834  |\n",
            "|  39 | 2.401369982032739  | 5 | 2.404763645725491  |  -0.06556475181184879  |\n",
            "|  40 | 2.404763645725491  | 5 | 2.408063316453231  |  -0.06386715943761131  |\n",
            "|  41 | 2.408063316453231  | 5 | 2.411273571611742  |  -0.06224820762025449  |\n",
            "|  42 | 2.411273571611742  | 5 | 2.4143986736842624 | -0.060702708374159725  |\n",
            "|  43 | 2.4143986736842624 | 5 | 2.417442597971891  |  -0.05922591389803453  |\n",
            "|  44 | 2.417442597971891  | 5 | 2.420409057369766  | -0.057813471241346545  |\n",
            "|  45 | 2.420409057369766  | 5 | 2.4233015245561518 |  -0.05646138243031983  |\n",
            "|  46 | 2.4233015245561518 | 5 | 2.4261232519096834 |  -0.05516596930436666  |\n",
            "|  47 | 2.4261232519096834 | 5 | 2.428877289426319  |  -0.05392384242872517  |\n",
            "|  48 | 2.428877289426319  | 5 | 2.431566500870608  | -0.052731873544555295  |\n",
            "|  49 | 2.431566500870608  | 5 | 2.434193578364562  |  -0.05158717109739144  |\n",
            "|  50 | 2.434193578364562  | 5 | 2.436761055590756  |  -0.05048705845151415  |\n",
            "|  51 | 2.436761055590756  | 5 | 2.4392713197635527 | -0.049429054453799484  |\n",
            "|  52 | 2.4392713197635527 | 5 | 2.4417266225028484 |  -0.04841085605778623  |\n",
            "|  53 | 2.4417266225028484 | 5 | 2.4441290897280425 |  -0.04743032275858322  |\n",
            "|  54 | 2.4441290897280425 | 5 | 2.4464807306755323 |  -0.04648546262305088  |\n",
            "|  55 | 2.4464807306755323 | 5 | 2.448783446130606  |  -0.04557441972845058  |\n",
            "|  56 | 2.448783446130606  | 5 | 2.4510390359538716 | -0.044695462847266415  |\n",
            "|  57 | 2.4510390359538716 | 5 | 2.4532492059730187 | -0.043846975236874246  |\n",
            "|  58 | 2.4532492059730187 | 5 | 2.455415574302602  |  -0.0430274454107042   |\n",
            "|  59 | 2.455415574302602  | 5 | 2.4575396771474765 |  -0.04223545878298714  |\n",
            "|  60 | 2.4575396771474765 | 5 | 2.4596229741393185 |  -0.04146969009249142  |\n",
            "|  61 | 2.4596229741393185 | 5 | 2.461666853250272  | -0.040728896522145085  |\n",
            "|  62 | 2.461666853250272  | 5 | 2.463672635323009  |  -0.04001191144139258  |\n",
            "|  63 | 2.463672635323009  | 5 | 2.465641578252329  |  -0.0393176387067654   |\n",
            "|  64 | 2.465641578252329  | 5 | 2.4675748808497264 |  -0.03864504746365509  |\n",
            "|  65 | 2.4675748808497264 | 5 | 2.4694736864191436 |  -0.0379931673988131   |\n",
            "|  66 | 2.4694736864191436 | 5 | 2.4713390860692246 |  -0.03736108439881461  |\n",
            "|  67 | 2.4713390860692246 | 5 | 2.473172121784868  |  -0.03674793657471748  |\n",
            "|  68 | 2.473172121784868  | 5 | 2.4749737892786134 |  -0.0361529106175233   |\n",
            "|  69 | 2.4749737892786134 | 5 | 2.476745040640389  |  -0.03557523845289611  |\n",
            "|  70 | 2.476745040640389  | 5 | 2.4784867868023683 | -0.035014194166971026  |\n",
            "|  71 | 2.4784867868023683 | 5 | 2.480199899834089  |  -0.03446909117807013  |\n",
            "|  72 | 2.480199899834089  | 5 | 2.4818852150815665 |  -0.03393927963176993  |\n",
            "|  73 | 2.4818852150815665 | 5 | 2.4835435331628615 |  -0.03342414399909497  |\n",
            "|  74 | 2.4835435331628615 | 5 | 2.4851756218314223 |  -0.0329231008596686   |\n",
            "|  75 | 2.4851756218314223 | 5 | 2.4867822177174994 |  -0.03243559685348367  |\n",
            "|  76 | 2.4867822177174994 | 5 | 2.488364027957011  | -0.031961106786577716  |\n",
            "|  77 | 2.488364027957011  | 5 | 2.489921731716416  |  -0.0314991318773417   |\n",
            "|  78 | 2.489921731716416  | 5 | 2.491455981621394  |  -0.03104919813148237  |\n",
            "|  79 | 2.491455981621394  | 5 | 2.4929674050964756 | -0.030610854834803806  |\n",
            "|  80 | 2.4929674050964756 | 5 |  2.49445660562215  | -0.030183673154002017  |\n",
            "|  81 |  2.49445660562215  | 5 | 2.495924163915431  | -0.029767244836586423  |\n",
            "|  82 | 2.495924163915431  | 5 | 2.497370639039359  | -0.029361181001864457  |\n",
            "|  83 | 2.497370639039359  | 5 | 2.4987965694464824 | -0.028965111015663455  |\n",
            "|  84 | 2.4987965694464824 | 5 | 2.5002024739609365 | -0.028578681442129442  |\n",
            "|  85 | 2.5002024739609365 | 5 | 2.501588852703369  |  -0.02820155506653881  |\n",
            "|  86 | 2.501588852703369  | 5 | 2.5029561879626367 | -0.027833409983595098  |\n",
            "|  87 | 2.5029561879626367 | 5 | 2.5043049450178696 | -0.027473938746170122  |\n",
            "|  88 | 2.5043049450178696 | 5 | 2.5056355729142403 | -0.027122847569883375  |\n",
            "|  89 | 2.5056355729142403 | 5 | 2.5069485051955014 | -0.026779855589311553  |\n",
            "|  90 | 2.5069485051955014 | 5 | 2.5082441605961296 | -0.026444694161976524  |\n",
            "|  91 | 2.5082441605961296 | 5 | 2.5095229436957016 |  -0.0261171062165839   |\n",
            "|  92 | 2.5095229436957016 | 5 | 2.5107852455379303 | -0.025796845642277386  |\n",
            "|  93 | 2.5107852455379303 | 5 | 2.5120314442166065 |  -0.02548367671594277  |\n",
            "|  94 | 2.5120314442166065 | 5 | 2.513261905430535  | -0.025177373564834835  |\n",
            "|  95 | 2.513261905430535  | 5 | 2.514476983009392  | -0.024877719662023217  |\n",
            "|  96 | 2.514476983009392  | 5 | 2.515677019412309  |  -0.02458450735235029  |\n",
            "|  97 | 2.515677019412309  | 5 | 2.5168623462008397 |  -0.02429753740678152  |\n",
            "|  98 | 2.5168623462008397 | 5 |  2.51803328448787  | -0.024016618603189984  |\n",
            "|  99 |  2.51803328448787  | 5 | 2.519190145363908  | -0.023741567331772708  |\n",
            "| 100 | 2.519190145363908  | 5 | 2.5203332303021013 | -0.023472207223433173  |\n",
            "| 101 | 2.5203332303021013 | 5 | 2.5214628315432304 | -0.023208368799592833  |\n",
            "| 102 | 2.5214628315432304 | 5 | 2.5225792324618483 |  -0.02294988914200883  |\n",
            "| 103 | 2.5225792324618483 | 5 | 2.5236827079146504 |  -0.02269661158128428  |\n",
            "| 104 | 2.5236827079146504 | 5 | 2.524773524572101  |  -0.02244838540285058  |\n",
            "| 105 | 2.524773524572101  | 5 | 2.5258519412342513 |  -0.02220506556929773  |\n",
            "| 106 | 2.5258519412342513 | 5 | 2.526918209131653  |  -0.02196651245800245  |\n",
            "| 107 | 2.526918209131653  | 5 | 2.527972572212187  |  -0.02173259161308679  |\n",
            "| 108 | 2.527972572212187  | 5 | 2.5290152674145885 | -0.021503173510804715  |\n",
            "| 109 | 2.5290152674145885 | 5 | 2.530046524929396  | -0.021278133337520603  |\n",
            "| 110 | 2.530046524929396  | 5 | 2.531066568448009  | -0.021057350779500612  |\n",
            "| 111 | 2.531066568448009  | 5 | 2.532075615400487  |   -0.020840709823795   |\n",
            "| 112 | 2.532075615400487  | 5 | 2.533073877182698  | -0.020628098569535094  |\n",
            "| 113 | 2.533073877182698  | 5 | 2.5340615593733764 | -0.020419409049019944  |\n",
            "| 114 | 2.5340615593733764 | 5 | 2.535038861941619  |  -0.02021453705800596  |\n",
            "| 115 | 2.535038861941619  | 5 | 2.5360059794453145 |  -0.02001338199465603  |\n",
            "| 116 | 2.5360059794453145 | 5 | 2.536963101220978  |  -0.01981584670663764  |\n",
            "| 117 | 2.536963101220978  | 5 | 2.5379104115654294 |  -0.01962183734589565  |\n",
            "| 118 | 2.5379104115654294 | 5 | 2.538848089909726  | -0.019431263230656512  |\n",
            "| 119 | 2.538848089909726  | 5 | 2.539776310985742  | -0.019244036714248326  |\n",
            "| 120 | 2.539776310985742  | 5 | 2.5406952449857614 | -0.019060073060349004  |\n",
            "| 121 | 2.5406952449857614 | 5 | 2.5416050577154325 | -0.018879290324299986  |\n",
            "| 122 | 2.5416050577154325 | 5 | 2.5425059107404024 | -0.018701609240145918  |\n",
            "| 123 | 2.5425059107404024 | 5 | 2.543397961526952  | -0.018526953113080547  |\n",
            "| 124 | 2.543397961526952  | 5 | 2.544281363576909  | -0.018355247717002796  |\n",
            "| 125 | 2.544281363576909  | 5 | 2.5451562665571235 | -0.018186421196901257  |\n",
            "| 126 | 2.5451562665571235 | 5 | 2.546022816423759  |  -0.01802040397580635  |\n",
            "| 127 | 2.546022816423759  | 5 | 2.546881155541649  | -0.017857128666062243  |\n",
            "| 128 | 2.546881155541649  | 5 | 2.547731422798941  | -0.017696529984689607  |\n",
            "| 129 | 2.547731422798941  | 5 | 2.548573753717266  | -0.017538544672618634  |\n",
            "| 130 | 2.548573753717266  | 5 | 2.5494082805576177 | -0.017383111417591864  |\n",
            "| 131 | 2.5494082805576177 | 5 | 2.550235132422153  |  -0.01723017078054196  |\n",
            "| 132 | 2.550235132422153  | 5 | 2.551054435352099  |  -0.01707966512526481  |\n",
            "| 133 | 2.551054435352099  | 5 | 2.551866312421934  | -0.016931538551218213  |\n",
            "| 134 | 2.551866312421934  | 5 | 2.552670883830021  | -0.016785736829285105  |\n",
            "| 135 | 2.552670883830021  | 5 | 2.5534682669858424 | -0.016642207340351448  |\n",
            "| 136 | 2.5534682669858424 | 5 | 2.554258576593989  | -0.016500899016556297  |\n",
            "| 137 | 2.554258576593989  | 5 | 2.555041924735054  | -0.016361762285079004  |\n",
            "| 138 | 2.555041924735054  | 5 |  2.55581842094355  |  -0.01622474901433957  |\n",
            "| 139 |  2.55581842094355  | 5 | 2.5565881722829986 |  -0.01608981246248958  |\n",
            "| 140 | 2.5565881722829986 | 5 | 2.557351283418296  |  -0.01595690722808382  |\n",
            "| 141 | 2.557351283418296  | 5 | 2.5581078566854836 | -0.015825989202824978  |\n",
            "| 142 | 2.5581078566854836 | 5 | 2.5588579921590275 |  -0.01569701552628073  |\n",
            "| 143 | 2.5588579921590275 | 5 | 2.5596017877167143 | -0.015569944542479026  |\n",
            "| 144 | 2.5596017877167143 | 5 | 2.560339339102263  | -0.015444735758290801  |\n",
            "| 145 | 2.560339339102263  | 5 | 2.5610707399857455 | -0.015321349803516345  |\n",
            "| 146 | 2.5610707399857455 | 5 | 2.561796082021912  | -0.015199748392593335  |\n",
            "| 147 | 2.561796082021912  | 5 |  2.5625154549065   |  -0.01507989428785235  |\n",
            "| 148 |  2.5625154549065   | 5 | 2.5632289464306144 | -0.014961751264246056  |\n",
            "| 149 | 2.5632289464306144 | 5 | 2.5639366425332564 | -0.014845284075485016  |\n",
            "| 150 | 2.5639366425332564 | 5 | 2.564638627352073  | -0.014730458421514707  |\n",
            "| 151 | 2.564638627352073  | 5 | 2.5653349832724017 |  -0.01461724091727275  |\n",
            "| 152 | 2.5653349832724017 | 5 | 2.566025790974676  | -0.014505599062668222  |\n",
            "| 153 | 2.566025790974676  | 5 | 2.566711129480257  | -0.014395501213727882  |\n",
            "| 154 | 2.566711129480257  | 5 | 2.5673910761957495 | -0.014286916554857101  |\n",
            "| 155 | 2.5673910761957495 | 5 | 2.5680657069558737 | -0.014179815072164963  |\n",
            "| 156 | 2.5680657069558737 | 5 | 2.5687350960649318 | -0.014074167527807747  |\n",
            "| 157 | 2.5687350960649318 | 5 | 2.5693993163369364 | -0.013969945435304852  |\n",
            "| 158 | 2.5693993163369364 | 5 | 2.5700584391344443 | -0.013867121035785423  |\n",
            "| 159 | 2.5700584391344443 | 5 | 2.5707125344061508 |  -0.01376566727512437  |\n",
            "| 160 | 2.5707125344061508 | 5 | 2.5713616707232885 | -0.013665557781929778  |\n",
            "| 161 | 2.5713616707232885 | 5 | 2.572005915314873  | -0.013566766846345528  |\n",
            "| 162 | 2.572005915314873  | 5 | 2.5726453341018454 | -0.013469269399633298  |\n",
            "| 163 | 2.5726453341018454 | 5 | 2.573279991730146  |  -0.01337304099450155  |\n",
            "| 164 | 2.573279991730146  | 5 | 2.573909951602761  | -0.013278057786150134  |\n",
            "| 165 | 2.573909951602761  | 5 | 2.5745352759107836 |  -0.01318429651399961  |\n",
            "| 166 | 2.5745352759107836 | 5 | 2.5751560256635164 | -0.013091734484077792  |\n",
            "| 167 | 2.5751560256635164 | 5 | 2.5757722607176623 | -0.013000349552035105  |\n",
            "| 168 | 2.5757722607176623 | 5 | 2.576384039805624  | -0.012910120106763982  |\n",
            "| 169 | 2.576384039805624  | 5 | 2.576991420562955  | -0.012821025054596516  |\n",
            "| 170 | 2.576991420562955  | 5 | 2.577594459554986  | -0.012733043804057183  |\n",
            "| 171 | 2.577594459554986  | 5 | 2.578193212302655  |  -0.01264615625114858  |\n",
            "| 172 | 2.578193212302655  | 5 | 2.578787733307575  |  -0.01256034276514812  |\n",
            "| 173 | 2.578787733307575  | 5 | 2.579378076076361  | -0.012475584174894784  |\n",
            "| 174 | 2.579378076076361  | 5 | 2.5799642931442475 | -0.012391861755547412  |\n",
            "| 175 | 2.5799642931442475 | 5 | 2.580546436098012  | -0.012309157215795303  |\n",
            "| 176 | 2.580546436098012  | 5 | 2.581124555598237  | -0.012227452685503234  |\n",
            "| 177 | 2.581124555598237  | 5 | 2.5816987014009327 | -0.012146730703773716  |\n",
            "| 178 | 2.5816987014009327 | 5 | 2.5822689223785313 | -0.012066974207411119  |\n",
            "| 179 | 2.5822689223785313 | 5 | 2.582835266540295  | -0.011988166519770234  |\n",
            "| 180 | 2.582835266540295  | 5 | 2.583397781052135  | -0.011910291339976477  |\n",
            "| 181 | 2.583397781052135  | 5 | 2.583956512255875  |  -0.01183333273250249  |\n",
            "| 182 | 2.583956512255875  | 5 | 2.584511505687975  | -0.011757275117087096  |\n",
            "| 183 | 2.584511505687975  | 5 |  2.58506280609773  | -0.011682103258984597  |\n",
            "| 184 |  2.58506280609773  | 5 | 2.5856104574649676 | -0.011607802259531015  |\n",
            "| 185 | 2.5856104574649676 | 5 | 2.586154503017253  | -0.011534357547016058  |\n",
            "| 186 | 2.586154503017253  | 5 | 2.5866949852466217 | -0.011461754867849054  |\n",
            "| 187 | 2.5866949852466217 | 5 | 2.587231945925858  | -0.011389980278007871  |\n",
            "| 188 | 2.587231945925858  | 5 | 2.587765426124327  | -0.011319020134760547  |\n",
            "| 189 | 2.587765426124327  | 5 | 2.5882954662233812 | -0.011248861088649186  |\n",
            "| 190 | 2.5882954662233812 | 5 | 2.588822105931351  | -0.011179490075727216  |\n",
            "| 191 | 2.588822105931351  | 5 | 2.589345384298135  | -0.011110894310040084  |\n",
            "| 192 | 2.589345384298135  | 5 | 2.5898653397293985 | -0.011043061276340927  |\n",
            "| 193 | 2.5898653397293985 | 5 | 2.5903820100004014 | -0.010975978723032577  |\n",
            "| 194 | 2.5903820100004014 | 5 | 2.5908954322694564 |  -0.01090963465532781  |\n",
            "| 195 | 2.5908954322694564 | 5 | 2.5914056430910373 | -0.010844017328620068  |\n",
            "| 196 | 2.5914056430910373 | 5 | 2.591912678428542  | -0.010779115242057373  |\n",
            "| 197 | 2.591912678428542  | 5 | 2.592416573666726  |  -0.01071491713231186  |\n",
            "| 198 | 2.592416573666726  | 5 | 2.5929173636238154 | -0.010651411967538164  |\n",
            "| 199 | 2.5929173636238154 | 5 | 2.593415082563306  | -0.010588588941514068  |\n",
            "| 200 | 2.593415082563306  | 5 | 2.593909764205461  |  -0.01052643746795759  |\n",
            "| 201 | 2.593909764205461  | 5 | 2.594401441738517  | -0.010464947175013145  |\n",
            "| 202 | 2.594401441738517  | 5 | 2.5948901478296036 | -0.010404107899902208  |\n",
            "| 203 | 2.5948901478296036 | 5 | 2.5953759146353925 | -0.010343909683731977  |\n",
            "| 204 | 2.5953759146353925 | 5 | 2.5958587738124708 | -0.010284342766457465  |\n",
            "| 205 | 2.5958587738124708 | 5 | 2.5963387565274636 | -0.010225397581990573  |\n",
            "| 206 | 2.5963387565274636 | 5 | 2.5968158934668994 | -0.010167064753452502  |\n",
            "| 207 | 2.5968158934668994 | 5 | 2.5972902148468338 | -0.010109335088563716  |\n",
            "| 208 | 2.5972902148468338 | 5 | 2.5977617504222343 |  -0.0100521995751673   |\n",
            "| 209 | 2.5977617504222343 | 5 | 2.598230529496137  | -0.009995649376881091  |\n",
            "| 210 | 2.598230529496137  | 5 | 2.5986965809285794 | -0.009939675828874239  |\n",
            "| 211 | 2.5986965809285794 | 5 | 2.5991599331453132 | -0.009884270433764386  |\n",
            "| 212 | 2.5991599331453132 | 5 | 2.599620614146311  | -0.009829424857631164  |\n",
            "| 213 | 2.599620614146311  | 5 | 2.6000786515140653 | -0.009775130926142182  |\n",
            "| 214 | 2.6000786515140653 | 5 | 2.600534072421686  | -0.009721380620788556  |\n",
            "| 215 | 2.600534072421686  | 5 | 2.6009869036408144 | -0.009668166075224655  |\n",
            "| 216 | 2.6009869036408144 | 5 | 2.601437171549337  | -0.009615479571711095  |\n",
            "| 217 | 2.601437171549337  | 5 | 2.6018849021389254 | -0.009563313537655795  |\n",
            "| 218 | 2.6018849021389254 | 5 | 2.602330121022396  |  -0.00951166054225046  |\n",
            "| 219 | 2.602330121022396  | 5 | 2.602772853440896  | -0.009460513293200053  |\n",
            "| 220 | 2.602772853440896  | 5 | 2.603213124270925  | -0.009409864633541366  |\n",
            "| 221 | 2.603213124270925  | 5 | 2.6036509580311895 |  -0.00935970753854851  |\n",
            "| 222 | 2.6036509580311895 | 5 | 2.6040863788893036 |  -0.00931003511272229  |\n",
            "| 223 | 2.6040863788893036 | 5 | 2.6045194106683307 | -0.009260840586861052  |\n",
            "| 224 | 2.6045194106683307 | 5 | 2.604950076853177  |  -0.00921211731521042  |\n",
            "| 225 | 2.604950076853177  | 5 | 2.605378400596843  | -0.009163858772688735  |\n",
            "| 226 | 2.605378400596843  | 5 | 2.6058044047265256 | -0.009116058552187518  |\n",
            "| 227 | 2.6058044047265256 | 5 |  2.60622811174959  | -0.009068710361942723  |\n",
            "| 228 |  2.60622811174959  | 5 | 2.606649543859398  | -0.009021808022976177  |\n",
            "| 229 | 2.606649543859398  | 5 | 2.6070687229410163 | -0.008975345466603796  |\n",
            "| 230 | 2.6070687229410163 | 5 | 2.6074856705767884 | -0.008929316732009621  |\n",
            "| 231 | 2.6074856705767884 | 5 | 2.607900408051787  | -0.008883715963882904  |\n",
            "| 232 | 2.607900408051787  | 5 | 2.6083129563591427 |  -0.00883853741011696  |\n",
            "| 233 | 2.6083129563591427 | 5 | 2.6087233362052604 |  -0.00879377541956708  |\n",
            "| 234 | 2.6087233362052604 | 5 | 2.6091315680149143 | -0.008749424439866833  |\n",
            "| 235 | 2.6091315680149143 | 5 | 2.609537671936238  | -0.008705479015299875  |\n",
            "| 236 | 2.609537671936238  | 5 | 2.6099416678456016 |  -0.00866193378472671  |\n",
            "| 237 | 2.6099416678456016 | 5 | 2.6103435753523816 | -0.008618783479564077  |\n",
            "| 238 | 2.6103435753523816 | 5 | 2.610743413803636  | -0.008576022921815172  |\n",
            "| 239 | 2.610743413803636  | 5 | 2.611141202288669  | -0.008533647022150348  |\n",
            "| 240 | 2.611141202288669  | 5 | 2.6115369596435034 | -0.008491650778035495  |\n",
            "| 241 | 2.6115369596435034 | 5 | 2.6119307044552564 | -0.008450029271907782  |\n",
            "| 242 | 2.6119307044552564 | 5 | 2.612322455066423  | -0.008408777669396444  |\n",
            "| 243 | 2.612322455066423  | 5 | 2.6127122295790666 |  -0.00836789121758828  |\n",
            "| 244 | 2.6127122295790666 | 5 | 2.6131000458589226 | -0.008327365243335855  |\n",
            "| 245 | 2.6131000458589226 | 5 | 2.6134859215394197 | -0.008287195151607087  |\n",
            "| 246 | 2.6134859215394197 | 5 | 2.613869874025609  | -0.008247376423876103  |\n",
            "| 247 | 2.613869874025609  | 5 | 2.6142519204980177 | -0.008207904616552894  |\n",
            "| 248 | 2.6142519204980177 | 5 | 2.6146320779164203 | -0.008168775359451451  |\n",
            "| 249 | 2.6146320779164203 | 5 | 2.615010363023533  | -0.008129984354294977  |\n",
            "| 250 | 2.615010363023533  | 5 |  2.61538679234863  | -0.008091527373257424  |\n",
            "| 251 |  2.61538679234863  | 5 |  2.61576138221109  |  -0.00805340025753977  |\n",
            "| 252 |  2.61576138221109  | 5 | 2.616134148723864  | -0.008015598915981055  |\n",
            "| 253 | 2.616134148723864  | 5 | 2.616505107796877  |  -0.0079781193237022   |\n",
            "| 254 | 2.616505107796877  | 5 |  2.61687427514036  | -0.007940957520781973  |\n",
            "| 255 |  2.61687427514036  | 5 | 2.6172416662681157 | -0.007904109610964691  |\n",
            "| 256 | 2.6172416662681157 | 5 | 2.6176072965007138 | -0.007867571760398501  |\n",
            "| 257 | 2.6176072965007138 | 5 | 2.6179711809686284 | -0.007831340196402959  |\n",
            "| 258 | 2.6179711809686284 | 5 |  2.61833333461531  |  -0.00779541120626575  |\n",
            "| 259 |  2.61833333461531  | 5 | 2.6186937722001944 | -0.0077597811360676965 |\n",
            "| 260 | 2.6186937722001944 | 5 | 2.6190525083016567 | -0.0077244463895346895 |\n",
            "| 261 | 2.6190525083016567 | 5 | 2.619409557319901  | -0.007689403426916741  |\n",
            "| 262 | 2.619409557319901  | 5 | 2.6197649334798006 | -0.007654648763892303  |\n",
            "| 263 | 2.6197649334798006 | 5 | 2.6201186508336765 | -0.0076201789704983345 |\n",
            "| 264 | 2.6201186508336765 | 5 | 2.6204707232640225 | -0.007585990670084862  |\n",
            "| 265 | 2.6204707232640225 | 5 | 2.6208211644861805 | -0.0075520805382930925 |\n",
            "| 266 | 2.6208211644861805 | 5 | 2.6211699880509625 | -0.007518445302056907  |\n",
            "| 267 | 2.6211699880509625 | 5 | 2.621517207347221  | -0.007485081738627104  |\n",
            "| 268 | 2.621517207347221  | 5 | 2.6218628356043685 | -0.007451986674617905  |\n",
            "| 269 | 2.6218628356043685 | 5 | 2.6222068858948537 | -0.007419156985074288  |\n",
            "| 270 | 2.6222068858948537 | 5 | 2.622549371136587  | -0.007386589592560748  |\n",
            "| 271 | 2.622549371136587  | 5 | 2.6228903040953173 | -0.007354281466270536  |\n",
            "| 272 | 2.6228903040953173 | 5 | 2.6232296973869724 | -0.007322229621153973  |\n",
            "| 273 | 2.6232296973869724 | 5 | 2.6235675634799445 |  -0.00729043111706713  |\n",
            "| 274 | 2.6235675634799445 | 5 |  2.62390391469734  | -0.007258883057938583  |\n",
            "| 275 |  2.62390391469734  | 5 | 2.6242387632191853 |  -0.00722758259095478  |\n",
            "| 276 | 2.6242387632191853 | 5 | 2.6245721210845905 | -0.007196526905763302  |\n",
            "| 277 | 2.6245721210845905 | 5 | 2.624904000193873  | -0.0071657132336936085 |\n",
            "| 278 | 2.624904000193873  | 5 | 2.625234412310643  | -0.007135138846994533  |\n",
            "| 279 | 2.625234412310643  | 5 | 2.6255633690638485 | -0.007104801058088682  |\n",
            "| 280 | 2.6255633690638485 | 5 | 2.6258908819497844 | -0.007074697218842739  |\n",
            "| 281 | 2.6258908819497844 | 5 | 2.626216962334064  | -0.007044824719853501  |\n",
            "| 282 | 2.626216962334064  | 5 | 2.6265416214535526 | -0.007015180989749512  |\n",
            "| 283 | 2.6265416214535526 | 5 | 2.6268648704182715 | -0.0069857634945072215 |\n",
            "| 284 | 2.6268648704182715 | 5 | 2.6271867202132597 | -0.006956569736782256  |\n",
            "| 285 | 2.6271867202132597 | 5 | 2.6275071817004076 | -0.006927597255254535  |\n",
            "| 286 | 2.6275071817004076 | 5 | 2.6278262656202562 | -0.006898843623987397  |\n",
            "| 287 | 2.6278262656202562 | 5 | 2.628143982593762  |  -0.00687030645180038  |\n",
            "| 288 | 2.628143982593762  | 5 | 2.628460343124033  | -0.006841983381655011  |\n",
            "| 289 | 2.628460343124033  | 5 | 2.6287753575980335 | -0.006813872090053574  |\n",
            "| 290 | 2.6287753575980335 | 5 | 2.629089036288254  | -0.006785970286450608  |\n",
            "| 291 | 2.629089036288254  | 5 | 2.6294013893543586 | -0.006758275712676466  |\n",
            "| 292 | 2.6294013893543586 | 5 | 2.629712426844799  | -0.006730786142372739  |\n",
            "| 293 | 2.629712426844799  | 5 | 2.6300221586984005 | -0.006703499380439792  |\n",
            "| 294 | 2.6300221586984005 | 5 | 2.630330594745918  | -0.006676413262495512  |\n",
            "| 295 | 2.630330594745918  | 5 | 2.630637744711572  | -0.006649525654344871  |\n",
            "| 296 | 2.630637744711572  | 5 | 2.6309436182145505 |  -0.00662283445146075  |\n",
            "| 297 | 2.6309436182145505 | 5 | 2.631248224770486  |  -0.00659633757847541  |\n",
            "| 298 | 2.631248224770486  | 5 | 2.631551573792911  | -0.0065700329886819895 |\n",
            "| 299 | 2.631551573792911  | 5 | 2.6318536745946823 | -0.006543918663546489  |\n",
            "| 300 | 2.6318536745946823 | 5 | 2.6321545363893883 | -0.0065179926122291955 |\n",
            "| 301 | 2.6321545363893883 | 5 | 2.6324541682927256 | -0.0064922528711161415 |\n",
            "| 302 | 2.6324541682927256 | 5 | 2.6327525793238533 | -0.006466697503359967  |\n",
            "| 303 | 2.6327525793238533 | 5 | 2.6330497784067273 | -0.006441324598429732  |\n",
            "| 304 | 2.6330497784067273 | 5 | 2.6333457743714077 | -0.006416132271670011  |\n",
            "| 305 | 2.6333457743714077 | 5 | 2.6336405759553507 | -0.006391118663868294  |\n",
            "| 306 | 2.6336405759553507 | 5 | 2.6339341918046686 | -0.006366281940831752  |\n",
            "| 307 | 2.6339341918046686 | 5 | 2.6342266304753785 | -0.006341620292971562  |\n",
            "| 308 | 2.6342266304753785 | 5 | 2.634517900434625  | -0.006317131934895915  |\n",
            "| 309 | 2.634517900434625  | 5 | 2.634808010061881  | -0.006292815105010981  |\n",
            "| 310 | 2.634808010061881  | 5 | 2.6350969676501346 | -0.006268668065129505  |\n",
            "| 311 | 2.6350969676501346 | 5 | 2.635384781407048  |  -0.00624468910008727  |\n",
            "| 312 | 2.635384781407048  | 5 | 2.635671459456107  | -0.006220876517366743  |\n",
            "| 313 | 2.635671459456107  | 5 | 2.6359570098377403 | -0.0061972286467284225 |\n",
            "| 314 | 2.6359570098377403 | 5 | 2.6362414405104313 | -0.006173743839848962  |\n",
            "| 315 | 2.6362414405104313 | 5 | 2.6365247593518037 | -0.006150420469966463  |\n",
            "| 316 | 2.6365247593518037 | 5 | 2.636806974159694  | -0.006127256931532512  |\n",
            "| 317 | 2.636806974159694  | 5 | 2.637088092653203  | -0.006104251639870919  |\n",
            "| 318 | 2.637088092653203  | 5 | 2.6373681224737346 | -0.0060814030308430625 |\n",
            "| 319 | 2.6373681224737346 | 5 | 2.637647071186012  | -0.006058709560519444  |\n",
            "| 320 | 2.637647071186012  | 5 | 2.6379249462790817 | -0.006036169704857722  |\n",
            "| 321 | 2.6379249462790817 | 5 | 2.6382017551673025 | -0.006013781959386415  |\n",
            "| 322 | 2.6382017551673025 | 5 | 2.638477505191314  | -0.005991544838895077  |\n",
            "| 323 | 2.638477505191314  | 5 | 2.6387522036189934 |  -0.00596945687712999  |\n",
            "| 324 | 2.6387522036189934 | 5 | 2.639025857646393  | -0.005947516626495799  |\n",
            "| 325 | 2.639025857646393  | 5 | 2.6392984743986694 | -0.005925722657762404  |\n",
            "| 326 | 2.6392984743986694 | 5 | 2.639570060930991  | -0.005904073559777577  |\n",
            "| 327 | 2.639570060930991  | 5 | 2.6398406242294348 | -0.005882567939184927  |\n",
            "| 328 | 2.6398406242294348 | 5 | 2.6401101712118704 | -0.005861204420146853  |\n",
            "| 329 | 2.6401101712118704 | 5 | 2.640378708728824  | -0.005839981644073057  |\n",
            "| 330 | 2.640378708728824  | 5 | 2.640646243564337  | -0.005818898269353569  |\n",
            "| 331 | 2.640646243564337  | 5 | 2.640912782436804  | -0.0057979529710970035 |\n",
            "| 332 | 2.640912782436804  | 5 | 2.641178331999803  | -0.005777144440873509  |\n",
            "| 333 | 2.641178331999803  | 5 |  2.64144289884291  | -0.005756471386462332  |\n",
            "| 334 |  2.64144289884291  | 5 | 2.6417064894925018 | -0.005735932531604182  |\n",
            "| 335 | 2.6417064894925018 | 5 | 2.641969110412545  |  -0.00571552661575796  |\n",
            "| 336 | 2.641969110412545  | 5 | 2.6422307680053754 | -0.005695252393861837  |\n",
            "| 337 | 2.6422307680053754 | 5 | 2.642491468612463  | -0.005675108636098825  |\n",
            "| 338 | 2.642491468612463  | 5 | 2.642751218515168  | -0.005655094127666397  |\n",
            "| 339 | 2.642751218515168  | 5 | 2.6430100239354797 | -0.005635207668550393  |\n",
            "| 340 | 2.6430100239354797 | 5 | 2.643267891036755  | -0.005615448073302675  |\n",
            "| 341 | 2.643267891036755  | 5 | 2.6435248259244304 | -0.005595814170823347  |\n",
            "| 342 | 2.6435248259244304 | 5 | 2.6437808346467375 | -0.005576304804146198  |\n",
            "| 343 | 2.6437808346467375 | 5 | 2.6440359231954007 | -0.005556918830228214  |\n",
            "| 344 | 2.6440359231954007 | 5 | 2.6442900975063233 | -0.005537655119743036  |\n",
            "| 345 | 2.6442900975063233 | 5 | 2.644543363460268  |  -0.00551851255687764  |\n",
            "| 346 | 2.644543363460268  | 5 | 2.6447957268835243 | -0.0054994900391329505 |\n",
            "| 347 | 2.6447957268835243 | 5 | 2.6450471935485633 | -0.005480586477127856  |\n",
            "| 348 | 2.6450471935485633 | 5 | 2.6452977691746913 | -0.005461800794406404  |\n",
            "| 349 | 2.6452977691746913 | 5 | 2.645547459428683  | -0.005443131927248815  |\n",
            "| 350 | 2.645547459428683  | 5 | 2.6457962699254147 | -0.005424578824485373  |\n",
            "| 351 | 2.6457962699254147 | 5 | 2.646044206228479  | -0.005406140447313916  |\n",
            "| 352 | 2.646044206228479  | 5 | 2.6462912738508018 | -0.005387815769119968  |\n",
            "| 353 | 2.6462912738508018 | 5 | 2.646537478255239  | -0.005369603775300571  |\n",
            "| 354 | 2.646537478255239  | 5 | 2.6467828248551712 | -0.005351503463090745  |\n",
            "| 355 | 2.6467828248551712 | 5 | 2.647027319015088  | -0.005333513841393095  |\n",
            "| 356 | 2.647027319015088  | 5 | 2.647270966051164  | -0.005315633930610209  |\n",
            "| 357 | 2.647270966051164  | 5 | 2.6475137712318255 | -0.005297862762480075  |\n",
            "| 358 | 2.6475137712318255 | 5 | 2.647755739778309  | -0.005280199379914233  |\n",
            "| 359 | 2.647755739778309  | 5 | 2.6479968768652156 | -0.005262642836838456  |\n",
            "| 360 | 2.6479968768652156 | 5 | 2.6482371876210484 | -0.005245192198036759  |\n",
            "| 361 | 2.6482371876210484 | 5 | 2.6484766771287545 | -0.005227846538997127  |\n",
            "| 362 | 2.6484766771287545 | 5 | 2.6487153504262477 | -0.005210604945760644  |\n",
            "| 363 | 2.6487153504262477 | 5 | 2.6489532125069313 | -0.005193466514772737  |\n",
            "| 364 | 2.6489532125069313 | 5 | 2.649190268320209  |  -0.00517643035273706  |\n",
            "| 365 | 2.649190268320209  | 5 | 2.6494265227719933 | -0.005159495576471656  |\n",
            "| 366 | 2.6494265227719933 | 5 | 2.649661980725201  | -0.005142661312767727  |\n",
            "| 367 | 2.649661980725201  | 5 | 2.6498966470002463 | -0.0051259266982506425 |\n",
            "| 368 | 2.6498966470002463 | 5 | 2.650130526375524  | -0.005109290879243239  |\n",
            "| 369 | 2.650130526375524  | 5 | 2.6503636235878876 | -0.005092753011631428  |\n",
            "| 370 | 2.6503636235878876 | 5 | 2.650595943333121  | -0.005076312260731931  |\n",
            "| 371 | 2.650595943333121  | 5 | 2.650827490266401  | -0.005059967801162366  |\n",
            "| 372 | 2.650827490266401  | 5 | 2.651058269002758  |  -0.00504371881671309  |\n",
            "| 373 | 2.651058269002758  | 5 | 2.6512882841175247 | -0.005027564500221761  |\n",
            "| 374 | 2.6512882841175247 | 5 | 2.6515175401467825 | -0.0050115040534492485 |\n",
            "| 375 | 2.6515175401467825 | 5 | 2.651746041587802  | -0.004995536686958013  |\n",
            "| 376 | 2.651746041587802  | 5 | 2.6519737928994727 | -0.004979661619992391  |\n",
            "| 377 | 2.6519737928994727 | 5 | 2.6522007985027334 | -0.004963878080360696  |\n",
            "| 378 | 2.6522007985027334 | 5 | 2.6524270627809923 | -0.004948185304319241  |\n",
            "| 379 | 2.6524270627809923 | 5 | 2.6526525900805416 | -0.0049325825364583764 |\n",
            "| 380 | 2.6526525900805416 | 5 | 2.652877384710969  | -0.004917069029590133  |\n",
            "| 381 | 2.652877384710969  | 5 | 2.653101450945561  | -0.004901644044637874  |\n",
            "| 382 | 2.653101450945561  | 5 | 2.6533247930217008 | -0.004886306850527598  |\n",
            "| 383 | 2.6533247930217008 | 5 | 2.653547415141263  | -0.004871056724081033  |\n",
            "| 384 | 2.653547415141263  | 5 | 2.653769321471001  | -0.004855892949910277  |\n",
            "| 385 | 2.653769321471001  | 5 | 2.653990516142932  |  -0.00484081482031424  |\n",
            "| 386 | 2.653990516142932  | 5 |  2.65421100325471  |  -0.00482582163517685  |\n",
            "| 387 |  2.65421100325471  | 5 | 2.6544307868700034 | -0.0048109127018665316 |\n",
            "| 388 | 2.6544307868700034 | 5 | 2.6546498710188597 | -0.004796087335137576  |\n",
            "| 389 | 2.6546498710188597 | 5 | 2.654868259698069  | -0.004781344857032888  |\n",
            "| 390 | 2.654868259698069  | 5 | 2.6550859568715213 | -0.004766684596788309  |\n",
            "| 391 | 2.6550859568715213 | 5 | 2.655302966470562  | -0.0047521058907383715 |\n",
            "| 392 | 2.655302966470562  | 5 | 2.6555192923943376 | -0.004737608082223686  |\n",
            "| 393 | 2.6555192923943376 | 5 | 2.655734938510141  | -0.004723190521499546  |\n",
            "| 394 | 2.655734938510141  | 5 | 2.655949908653751  | -0.004708852565646099  |\n",
            "| 395 | 2.655949908653751  | 5 | 2.6561642066297675 | -0.004694593578479835  |\n",
            "| 396 | 2.6561642066297675 | 5 | 2.6563778362119397 | -0.004680412930466596  |\n",
            "| 397 | 2.6563778362119397 | 5 | 2.656590801143496  | -0.004666309998635583  |\n",
            "| 398 | 2.656590801143496  | 5 | 2.656803105137463  | -0.004652284166495063  |\n",
            "| 399 | 2.656803105137463  | 5 | 2.6570147518769858 | -0.004638334823949103  |\n",
            "| 400 | 2.6570147518769858 | 5 | 2.657225745015638  | -0.0046244613672157655 |\n",
            "| 401 | 2.657225745015638  | 5 | 2.657436088177736  | -0.004610663198746309  |\n",
            "| 402 | 2.657436088177736  | 5 | 2.657645784958641  | -0.004596939727145886  |\n",
            "| 403 | 2.657645784958641  | 5 | 2.657854838925062  | -0.0045832903670952625 |\n",
            "| 404 | 2.657854838925062  | 5 | 2.658063253615354  | -0.004569714539273767  |\n",
            "| 405 | 2.658063253615354  | 5 | 2.6582710325398113 | -0.004556211670283439  |\n",
            "| 406 | 2.6582710325398113 | 5 | 2.658478179180958  | -0.004542781192574272  |\n",
            "| 407 | 2.658478179180958  | 5 | 2.6586846969938347 | -0.004529422544370598  |\n",
            "| 408 | 2.6586846969938347 | 5 | 2.658890589406281  | -0.004516135169598525  |\n",
            "| 409 | 2.658890589406281  | 5 | 2.6590958598192165 | -0.004502918517814515  |\n",
            "| 410 | 2.6590958598192165 | 5 | 2.659300511606913  | -0.004489772044135139  |\n",
            "| 411 | 2.659300511606913  | 5 |  2.65950454811727  | -0.004476695209167579  |\n",
            "| 412 |  2.65950454811727  | 5 | 2.6597079726720834 | -0.004463687478941377  |\n",
            "| 413 | 2.6597079726720834 | 5 |  2.65991078856731  | -0.004450748324841166  |\n",
            "| 414 |  2.65991078856731  | 5 | 2.660112999073328  | -0.004437877223540531  |\n",
            "| 415 | 2.660112999073328  | 5 | 2.6603146074351995 | -0.0044250736569363515 |\n",
            "| 416 | 2.6603146074351995 | 5 | 2.660515616872924  | -0.004412337112084738  |\n",
            "| 417 | 2.660515616872924  | 5 | 2.6607160305816913 | -0.004399667081137469  |\n",
            "| 418 | 2.6607160305816913 | 5 | 2.6609158517321307 | -0.004387063061279537  |\n",
            "| 419 | 2.6609158517321307 | 5 | 2.6611150834705573 | -0.004374524554667617  |\n",
            "| 420 | 2.6611150834705573 | 5 | 2.6613137289192155 |  -0.00436205106836929  |\n",
            "| 421 | 2.6613137289192155 | 5 | 2.6615117911765194 | -0.0043496421143032924 |\n",
            "| 422 | 2.6615117911765194 | 5 | 2.661709273317289  |  -0.00433729720918062  |\n",
            "| 423 | 2.661709273317289  | 5 | 2.661906178392985  | -0.004325015874446404  |\n",
            "| 424 | 2.661906178392985  | 5 | 2.6621025094319424 | -0.004312797636222559  |\n",
            "| 425 | 2.6621025094319424 | 5 | 2.662298269439595  | -0.004300642025251612  |\n",
            "| 426 | 2.662298269439595  | 5 | 2.6624934613987055 | -0.004288548576840791  |\n",
            "| 427 | 2.6624934613987055 | 5 | 2.662688088269585  | -0.004276516830807475  |\n",
            "| 428 | 2.662688088269585  | 5 | 2.6628821529903157 | -0.0042645463314250264 |\n",
            "| 429 | 2.6628821529903157 | 5 | 2.663075658476969  | -0.004252636627369423  |\n",
            "| 430 | 2.663075658476969  | 5 | 2.663268607623818  | -0.0042407872716670085 |\n",
            "| 431 | 2.663268607623818  | 5 | 2.663461003303553  | -0.004228997821642473  |\n",
            "| 432 | 2.663461003303553  | 5 | 2.663652848367491  | -0.004217267838867895  |\n",
            "| 433 | 2.663652848367491  | 5 | 2.6638441456457795 | -0.004205596889112629  |\n",
            "| 434 | 2.6638441456457795 | 5 | 2.6640348979476074 |  -0.00419398454229339  |\n",
            "| 435 | 2.6640348979476074 | 5 | 2.664225108061403  | -0.004182430372425541  |\n",
            "| 436 | 2.664225108061403  | 5 | 2.6644147787550354 |  -0.00417093395757486  |\n",
            "| 437 | 2.6644147787550354 | 5 | 2.6646039127760135 | -0.004159494879809901  |\n",
            "| 438 | 2.6646039127760135 | 5 | 2.6647925128516796 | -0.004148112725155216  |\n",
            "| 439 | 2.6647925128516796 | 5 | 2.664980581689403  | -0.004136787083545095  |\n",
            "| 440 | 2.664980581689403  | 5 | 2.665168121976773  | -0.004125517548777892  |\n",
            "| 441 | 2.665168121976773  | 5 | 2.665355136381783  | -0.004114303718471244  |\n",
            "| 442 | 2.665355136381783  | 5 | 2.665541627553021  | -0.0041031451940176066 |\n",
            "| 443 | 2.665541627553021  | 5 | 2.665727598119851  | -0.004092041580540562  |\n",
            "| 444 | 2.665727598119851  | 5 | 2.6659130506925974 | -0.004080992486851714  |\n",
            "| 445 | 2.6659130506925974 | 5 | 2.6660979878627233 | -0.004069997525408152  |\n",
            "| 446 | 2.6660979878627233 | 5 | 2.666282412203008  | -0.004059056312270556  |\n",
            "| 447 | 2.666282412203008  | 5 | 2.6664663262677233 | -0.004048168467061782  |\n",
            "| 448 | 2.6664663262677233 | 5 | 2.6666497325928087 | -0.004037333612925995  |\n",
            "| 449 | 2.6666497325928087 | 5 | 2.6668326336960404 | -0.004026551376488557  |\n",
            "| 450 | 2.6668326336960404 | 5 | 2.6670150320772033 | -0.004015821387816208  |\n",
            "| 451 | 2.6670150320772033 | 5 | 2.6671969302182568 | -0.004005143280377995  |\n",
            "| 452 | 2.6671969302182568 | 5 | 2.6673783305835017 | -0.003994516691006602  |\n",
            "| 453 | 2.6673783305835017 | 5 | 2.6675592356197435 | -0.003983941259860265  |\n",
            "| 454 | 2.6675592356197435 | 5 | 2.6677396477564566 | -0.003973416630385046  |\n",
            "| 455 | 2.6677396477564566 | 5 | 2.6679195694059405 | -0.003962942449277966  |\n",
            "| 456 | 2.6679195694059405 | 5 | 2.668099002963482  | -0.003952518366450217  |\n",
            "| 457 | 2.668099002963482  | 5 | 2.6682779508075107 | -0.0039421440349911045 |\n",
            "| 458 | 2.6682779508075107 | 5 | 2.668456415299751  | -0.003931819111132564  |\n",
            "| 459 | 2.668456415299751  | 5 | 2.6686343987853802 | -0.003921543254213749  |\n",
            "| 460 | 2.6686343987853802 | 5 | 2.6688119035931757 | -0.003911316126646602  |\n",
            "| 461 | 2.6688119035931757 | 5 | 2.668988932035666  | -0.0039011373938815054 |\n",
            "| 462 | 2.668988932035666  | 5 | 2.669165486409278  | -0.0038910067243736165 |\n",
            "| 463 | 2.669165486409278  | 5 | 2.6693415689944855 | -0.0038809237895493847 |\n",
            "| 464 | 2.6693415689944855 | 5 | 2.669517182055951  | -0.0038708882637737817 |\n",
            "| 465 | 2.669517182055951  | 5 | 2.6696923278426694 | -0.003860899824317942  |\n",
            "| 466 | 2.6696923278426694 | 5 | 2.669867008588112  | -0.0038509581513268645 |\n",
            "| 467 | 2.669867008588112  | 5 | 2.670041226510362  | -0.0038410629277881433 |\n",
            "| 468 | 2.670041226510362  | 5 | 2.670214983812256  | -0.003831213839500534  |\n",
            "| 469 | 2.670214983812256  | 5 | 2.6703882826815213 | -0.0038214105750432486 |\n",
            "| 470 | 2.6703882826815213 | 5 | 2.6705611252909067 | -0.003811652825745664  |\n",
            "| 471 | 2.6705611252909067 | 5 | 2.6707335137983215 | -0.0038019402856571886 |\n",
            "| 472 | 2.6707335137983215 | 5 | 2.6709054503469645 | -0.0037922726515177666 |\n",
            "| 473 | 2.6709054503469645 | 5 | 2.671076937065457  | -0.0037826496227285748 |\n",
            "| 474 | 2.671076937065457  | 5 | 2.6712479760679697 | -0.0037730709013233227 |\n",
            "| 475 | 2.6712479760679697 | 5 | 2.671418569454352  | -0.0037635361919396942 |\n",
            "| 476 | 2.671418569454352  | 5 | 2.6715887193102605 | -0.003754045201791194  |\n",
            "| 477 | 2.6715887193102605 | 5 | 2.6717584277072803 |  -0.00374459764063954  |\n",
            "| 478 | 2.6717584277072803 | 5 | 2.6719276967030505 |  -0.00373519322076727  |\n",
            "| 479 | 2.6719276967030505 | 5 | 2.672096528341389  | -0.003725831656950536  |\n",
            "| 480 | 2.672096528341389  | 5 | 2.6722649246524104 | -0.003716512666432633  |\n",
            "| 481 | 2.6722649246524104 | 5 | 2.6724328876526484 | -0.003707235968897452  |\n",
            "| 482 | 2.6724328876526484 | 5 | 2.6726004193451716 | -0.0036980012864436876 |\n",
            "| 483 | 2.6726004193451716 | 5 | 2.6727675217197033 |  -0.00368880834355896  |\n",
            "| 484 | 2.6727675217197033 | 5 | 2.6729341967527365 | -0.0036796568670945614 |\n",
            "| 485 | 2.6729341967527365 | 5 | 2.6731004464076484 | -0.0036705465862403816 |\n",
            "| 486 | 2.6731004464076484 | 5 | 2.673266272634814  | -0.0036614772325002224 |\n",
            "| 487 | 2.673266272634814  | 5 | 2.673431677371721  |  -0.00365244853966727  |\n",
            "| 488 | 2.673431677371721  | 5 | 2.673596662543076  | -0.0036434602438001357 |\n",
            "| 489 | 2.673596662543076  | 5 | 2.673761230060918  | -0.003634512083198998  |\n",
            "| 490 | 2.673761230060918  | 5 | 2.673925381824728  | -0.003625603798382047  |\n",
            "| 491 | 2.673925381824728  | 5 | 2.674089119721533  | -0.0036167351320623283 |\n",
            "| 492 | 2.674089119721533  | 5 | 2.6742524456260153 | -0.003607905829124842  |\n",
            "| 493 | 2.6742524456260153 | 5 | 2.6744153614006176 | -0.0035991156366037844 |\n",
            "| 494 | 2.6744153614006176 | 5 | 2.674577868895647  | -0.0035903643036602896 |\n",
            "| 495 | 2.674577868895647  | 5 | 2.674739969949378  | -0.003581651581560349  |\n",
            "| 496 | 2.674739969949378  | 5 | 2.6749016663881533 | -0.0035729772236529774 |\n",
            "| 497 | 2.6749016663881533 | 5 | 2.675062960026488  | -0.003564340985348642  |\n",
            "| 498 | 2.675062960026488  | 5 | 2.6752238526671674 | -0.0035557426240980282 |\n",
            "| 499 | 2.6752238526671674 | 5 | 2.6753843461013456 | -0.0035471818993710294 |\n",
            "| 500 | 2.6753843461013456 | 5 | 2.6755444421086443 | -0.003538658572635972  |\n",
            "+-----+--------------------+---+--------------------+------------------------+\n",
            "Método Newton-Raphson:\n",
            "+----+--------------------+-------------------------+\n",
            "| i  |         x          |           f(x)          |\n",
            "+----+--------------------+-------------------------+\n",
            "| 1  |        1.5         |   -3.0790006646963732   |\n",
            "| 2  | 2.0920203851274533 |   -0.45552636583876915  |\n",
            "| 3  | 2.297818111365348  |   -0.14202034952467496  |\n",
            "| 4  |  2.44938917054243  |   -0.04533708073396842  |\n",
            "| 5  | 2.5653300042199767 |  -0.014618048016702323  |\n",
            "| 6  | 2.655507810432857  |  -0.004738376708073743  |\n",
            "| 7  | 2.7262865695857323 |  -0.0015408334096124253 |\n",
            "| 8  | 2.7821476337728774 |  -0.0005020902275537793 |\n",
            "| 9  | 2.8263953311403656 |  -0.0001638413268337602 |\n",
            "| 10 | 2.861531695876387  |  -5.351827332344676e-05 |\n",
            "| 11 | 2.8894826498465287 |  -1.749441445705402e-05 |\n",
            "| 12 | 2.9117466276372648 |  -5.721816728014973e-06 |\n",
            "| 13 | 2.929497986450987  |  -1.872180927192536e-06 |\n",
            "| 14 | 2.9436618168393864 |  -6.127720032348683e-07 |\n",
            "| 15 | 2.954969543419194  | -2.0061157885306234e-07 |\n",
            "| 16 | 2.9640010397120884 |  -6.568943572179575e-08 |\n",
            "| 17 | 2.971216963754779  |  -2.151293103115092e-08 |\n",
            "| 18 | 2.976983831199447  |  -7.046190035723333e-09 |\n",
            "| 19 | 2.9815935989186975 | -2.3080707884806825e-09 |\n",
            "| 20 | 2.985279044333371  |  -7.560935715952212e-10 |\n",
            "+----+--------------------+-------------------------+\n",
            "Método Secante:\n",
            "+----+--------------------+-------------------------+\n",
            "| i  |         x          |           f(x)          |\n",
            "+----+--------------------+-------------------------+\n",
            "| x0 |         2          |   -0.6931471805599453   |\n",
            "| x1 |         5          |    51.50201319789121    |\n",
            "| 1  | 2.0398397385236953 |    -0.581741083652412   |\n",
            "| 2  | 2.072902770596755  |   -0.49925694438465495  |\n",
            "| 3  | 2.2730254670499885 |   -0.16672405016104555  |\n",
            "| 4  | 2.373362206847515  |   -0.08351245551861469  |\n",
            "| 5  |  2.47406172540897  |   -0.03645319139574744  |\n",
            "| 6  | 2.552065895087361  |  -0.016895278943928834  |\n",
            "| 7  | 2.6194505001034973 |  -0.007685393047296574  |\n",
            "| 8  | 2.6756810745859902 |  -0.0035313971965001407 |\n",
            "| 9  | 2.7234838409385365 |  -0.0016196907677309723 |\n",
            "| 10 | 2.763984672116402  |  -0.0007445304913875516 |\n",
            "| 11 | 2.798440193640356  |  -0.0003423428667518205 |\n",
            "| 12 | 2.827768798727653  | -0.00015753557034086692 |\n",
            "| 13 | 2.8527694270548776 |  -7.252229811204556e-05 |\n",
            "| 14 | 2.8740967206997485 |  -3.339962147650315e-05 |\n",
            "| 15 | 2.8923041542425185 | -1.5386545950764443e-05 |\n",
            "| 16 | 2.907856718403537  |  -7.090097394826526e-06 |\n",
            "| 17 | 2.9211478506147994 | -3.2677814339801676e-06 |\n",
            "| 18 | 2.9325107299584845 | -1.5063607659156729e-06 |\n",
            "| 19 | 2.9422282244454596 |  -6.944921019655983e-07 |\n",
            "| 20 | 2.9505408043882095 |  -3.202269507492237e-07 |\n",
            "| 21 | 2.957653174105974  |  -1.476699971971214e-07 |\n",
            "| 22 | 2.9637397651975936 |  -6.810258014110405e-08 |\n",
            "| 23 | 2.9689493418426585 | -3.1409861225598636e-08 |\n",
            "| 24 | 2.9734088663560208 | -1.4487545931089527e-08 |\n",
            "| 25 | 2.977226758003455  |  -6.682607762886273e-09 |\n",
            "| 26 | 2.980495646470111  | -3.0825922121094474e-09 |\n",
            "| 27 |  2.98329470385957  | -1.4220088499828844e-09 |\n",
            "| 28 | 2.985691623201411  |  -6.559975781104952e-10 |\n",
            "+----+--------------------+-------------------------+\n"
          ]
        }
      ]
    }
  ],
  "metadata": {
    "colab": {
      "collapsed_sections": [
        "qUh8pYJqPA6o",
        "JFFYKvhBPES0",
        "dsgIYSYW6xjl",
        "a4L9N0eUDHas"
      ],
      "provenance": [],
      "authorship_tag": "ABX9TyP4cYtcJlhpU40ZtXIhADlz",
      "include_colab_link": true
    },
    "kernelspec": {
      "display_name": "Python 3",
      "name": "python3"
    },
    "language_info": {
      "name": "python"
    }
  },
  "nbformat": 4,
  "nbformat_minor": 0
}